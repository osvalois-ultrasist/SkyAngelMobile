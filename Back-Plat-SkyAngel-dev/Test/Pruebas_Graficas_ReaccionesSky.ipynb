{
 "cells": [
  {
   "cell_type": "markdown",
   "metadata": {},
   "source": [
    "PRUEBAS DE SERVICIOS PARA BASE DE DATOS DE REACCIONES."
   ]
  },
  {
   "cell_type": "code",
   "execution_count": null,
   "metadata": {},
   "outputs": [],
   "source": [
    "import requests\n",
    "import json\n",
    "\n",
    "# Construimos la URL de la API\n",
    "\n",
    "Host = '127.0.0.1'\n",
    "Port = '5000'\n",
    "Url = 'http://'+Host+':'+Port\n",
    "Url"
   ]
  },
  {
   "cell_type": "code",
   "execution_count": null,
   "metadata": {},
   "outputs": [],
   "source": [
    "## PROBADA CON COMPONENTE\n",
    "## Crimenes por categoría\n",
    "\n",
    "años = [0]\n",
    "mes = [0]\n",
    "entidad = [0]\n",
    "municipio = [0]\n",
    "idCategoria = [45,50,46,47]\n",
    "\n",
    "data=json.dumps({\"años\":años,\"mes\":mes,\"entidad\":entidad,\"municipio\":municipio,\"idCategoria\":idCategoria})\n",
    "response = requests.post(Url+'/reacciones/graficas/delito-barras',data=data)\n",
    "\n",
    "# Imprimir la respuesta\n",
    "print(response.text)\n",
    "print(\"Estatus del codigo:\", response.status_code)"
   ]
  },
  {
   "cell_type": "code",
   "execution_count": null,
   "metadata": {},
   "outputs": [],
   "source": [
    "## PROBADA CON COMPONENTE\n",
    "## Crimenes por entidad\n",
    "\n",
    "años = [0]\n",
    "mes = [0]\n",
    "entidad = [9]\n",
    "municipio = [0]\n",
    "categoria = [0]\n",
    "\n",
    "data=json.dumps({\"años\":años, \"entidad\":entidad, \"mes\":mes, \"municipio\":municipio, \"categoria\":categoria})\n",
    "response = requests.post(Url+'/reacciones/graficas/barras',data=data)\n",
    "\n",
    "print(response.text)\n",
    "print(\"Estatus del codigo:\", response.status_code)"
   ]
  },
  {
   "cell_type": "code",
   "execution_count": null,
   "metadata": {},
   "outputs": [],
   "source": [
    "# Crimenes por mes\n",
    "\n",
    "años = [0]\n",
    "mes = [0]\n",
    "entidad = [0]\n",
    "municipio = [0]\n",
    "categoria = [0]\n",
    "\n",
    "data=json.dumps({\"años\":años, \"entidad\":entidad, \"mes\":mes, \"municipio\":municipio, \"categoria\":categoria})\n",
    "response = requests.post(Url+'/reacciones/graficas/scatter',data=data)\n",
    "\n",
    "print(response.text)\n",
    "print(\"Estatus del codigo:\", response.status_code)"
   ]
  },
  {
   "cell_type": "code",
   "execution_count": null,
   "metadata": {},
   "outputs": [],
   "source": [
    "\n",
    "años = [0]\n",
    "mes = [0]\n",
    "entidad = [9]\n",
    "municipio = [0]\n",
    "categoria = [0]\n",
    "\n",
    "data=json.dumps({\"años\":años, \"entidad\":entidad, \"mes\":mes, \"municipio\":municipio, \"categoria\":categoria})\n",
    "response = requests.post(Url+'/reacciones/graficas/tabla',data=data)\n",
    "\n",
    "print(response.text)\n",
    "print(\"Estatus del codigo:\", response.status_code)"
   ]
  },
  {
   "cell_type": "code",
   "execution_count": null,
   "metadata": {},
   "outputs": [],
   "source": [
    "años = [0]\n",
    "mes = [0]\n",
    "entidad = [9]\n",
    "municipio = [0]\n",
    "categoria = [0]\n",
    "\n",
    "data=json.dumps({\"años\":años, \"entidad\":entidad, \"mes\":mes, \"municipio\":municipio, \"categoria\":categoria})\n",
    "response = requests.post(Url+'/reacciones/graficas/dias-barras',data=data)\n",
    "\n",
    "print(response.text)\n",
    "print(\"Estatus del codigo:\", response.status_code)"
   ]
  },
  {
   "cell_type": "code",
   "execution_count": null,
   "metadata": {},
   "outputs": [],
   "source": [
    "años = [0]\n",
    "mes = [0]\n",
    "entidad = [9]\n",
    "municipio = [0]\n",
    "categoria = [0]\n",
    "\n",
    "data=json.dumps({\"años\":años, \"entidad\":entidad, \"mes\":mes, \"municipio\":municipio, \"categoria\":categoria})\n",
    "response = requests.post(Url+'/reacciones/graficas/central-barras',data=data)\n",
    "\n",
    "print(response.text)\n",
    "print(\"Estatus del codigo:\", response.status_code)"
   ]
  },
  {
   "cell_type": "code",
   "execution_count": null,
   "metadata": {},
   "outputs": [],
   "source": [
    "años = [0]\n",
    "mes = [0]\n",
    "entidad = [9]\n",
    "municipio = [0]\n",
    "categoria = [0]\n",
    "\n",
    "data=json.dumps({\"años\":años, \"entidad\":entidad, \"mes\":mes, \"municipio\":municipio, \"categoria\":categoria})\n",
    "response = requests.post(Url+'/reacciones/graficas/linea-barras',data=data)\n",
    "\n",
    "print(response.text)\n",
    "print(\"Estatus del codigo:\", response.status_code)"
   ]
  },
  {
   "cell_type": "code",
   "execution_count": null,
   "metadata": {},
   "outputs": [],
   "source": [
    "años = [0]\n",
    "mes = [0]\n",
    "entidad = [9]\n",
    "municipio = [0]\n",
    "categoria = [0]\n",
    "\n",
    "data=json.dumps({\"años\":años, \"entidad\":entidad, \"mes\":mes, \"municipio\":municipio, \"categoria\":categoria})\n",
    "response = requests.post(Url+'/reacciones/graficas/cachimbas-barras',data=data)\n",
    "\n",
    "print(response.text)\n",
    "print(\"Estatus del codigo:\", response.status_code)"
   ]
  }
 ],
 "metadata": {
  "kernelspec": {
   "display_name": "venv",
   "language": "python",
   "name": "python3"
  },
  "language_info": {
   "codemirror_mode": {
    "name": "ipython",
    "version": 3
   },
   "file_extension": ".py",
   "mimetype": "text/x-python",
   "name": "python",
   "nbconvert_exporter": "python",
   "pygments_lexer": "ipython3",
   "version": "3.12.4"
  }
 },
 "nbformat": 4,
 "nbformat_minor": 2
}
