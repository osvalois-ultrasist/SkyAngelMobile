{
 "cells": [
  {
   "cell_type": "markdown",
   "metadata": {},
   "source": [
    "PRUEBAS DE SERVICIOS PARA BASE DE DATOS DE LA FUENTE EXTERNA."
   ]
  },
  {
   "cell_type": "code",
   "execution_count": null,
   "metadata": {},
   "outputs": [],
   "source": [
    "import requests\n",
    "import json\n",
    "\n",
    "# Construimos la URL de la API\n",
    "\n",
    "Host = '127.0.0.1'\n",
    "Port = '5000'\n",
    "Url = 'http://'+Host+':'+Port\n",
    "Url"
   ]
  },
  {
   "cell_type": "code",
   "execution_count": null,
   "metadata": {},
   "outputs": [],
   "source": [
    "# I. SERVICIO DE GRÁFICA DE BARRAS DE LA BASE FUENTE EXTERNA POR MES AÑO ACTUAL VS AÑO ANTERIOR\n",
    "\n",
    "anio = [0]\n",
    "mes = [0]\n",
    "entidad = [0]\n",
    "municipio = [0]\n",
    "\n",
    "data=json.dumps({\"anio\":anio, \"mes\":mes, \"entidad\":entidad, \"municipio\":municipio})\n",
    "response = requests.post(Url+'/fuente-externa/graficas/anio-anterior-barras',data=data)\n",
    "\n",
    "print(response.text)\n",
    "print(\"Estatus del codigo:\", response.status_code)"
   ]
  },
  {
   "cell_type": "code",
   "execution_count": null,
   "metadata": {},
   "outputs": [],
   "source": [
    "# II. SERVICIO DE GRÁFICA DE BARRAS DE LA BASE FUENTE EXTERNA POR DÍAS DE LA SEMANA\n",
    "\n",
    "anio = [0]\n",
    "mes = [0]\n",
    "entidad = [0]\n",
    "municipio = [0]\n",
    "\n",
    "data=json.dumps({\"anio\":anio, \"mes\":mes, \"entidad\":entidad, \"municipio\":municipio})\n",
    "response = requests.post(Url+'/fuente-externa/graficas/anio-meses-dias-barras',data=data)\n",
    "\n",
    "print(response.text)\n",
    "print(\"Estatus del codigo:\", response.status_code)"
   ]
  },
  {
   "cell_type": "code",
   "execution_count": null,
   "metadata": {},
   "outputs": [],
   "source": [
    "# III. SERVICIO DE GRÁFICA DE BARRAS DE LA BASE FUENTE EXTERNA POR TURNO\n",
    "\n",
    "anio = [0]\n",
    "mes = [0]\n",
    "entidad = [0]\n",
    "municipio = [0]\n",
    "\n",
    "data=json.dumps({\"anio\":anio, \"mes\":mes, \"entidad\":entidad, \"municipio\":municipio})\n",
    "response = requests.post(Url+'/fuente-externa/graficas/horario-barras',data=data)\n",
    "\n",
    "print(response.text)\n",
    "print(\"Estatus del codigo:\", response.status_code)"
   ]
  },
  {
   "cell_type": "code",
   "execution_count": null,
   "metadata": {},
   "outputs": [],
   "source": [
    "# iV. SERVICIO DE GRÁFICA DE BARRAS DE LA BASE FUENTE EXTERNA POR TIPO DE VEHÍCULO\n",
    "\n",
    "anio = [0]\n",
    "mes = [0]\n",
    "entidad = [0]\n",
    "municipio = [0]\n",
    "\n",
    "data=json.dumps({\"anio\":anio, \"mes\":mes, \"entidad\":entidad, \"municipio\":municipio})\n",
    "response = requests.post(Url+'/fuente-externa/graficas/vehiculos-barras',data=data)\n",
    "\n",
    "print(response.text)\n",
    "print(\"Estatus del codigo:\", response.status_code)"
   ]
  },
  {
   "cell_type": "code",
   "execution_count": null,
   "metadata": {},
   "outputs": [],
   "source": [
    "# V. SERVICIO DE GRÁFICA VELAS DE LA BASE FUENTE EXTERNA\n",
    "\n",
    "anio = [2023,2024]\n",
    "mes = [0]\n",
    "entidad = [1,2,3,4,5,6,7,8,9,10,11,12,13,14,15,16,17,18,19,20,21,22,23,24,25,26,27,28,29,30,31]\n",
    "municipio = [9002, 9003, 9004, 9005, 9010]\n",
    "\n",
    "data=json.dumps({\"anio\":anio, \"mes\":mes, \"entidad\":entidad, \"municipio\":municipio})\n",
    "response = requests.post(Url+'/fuente-externa/graficas/cierre-apertura-max-min-velas',data=data)\n",
    "\n",
    "print(response.text)\n",
    "print(\"Estatus del codigo:\", response.status_code)"
   ]
  },
  {
   "cell_type": "code",
   "execution_count": null,
   "metadata": {},
   "outputs": [],
   "source": [
    "# VI. SERVICIO DE PIE DE LA BASE FUENTE EXTERNA\n",
    "\n",
    "anio = [2023]\n",
    "mes = [0]\n",
    "entidad = [1,2,3,4,5,6,7,8,9,10,11,12,13,14,15]\n",
    "municipio = [9000]\n",
    "\n",
    "data=json.dumps({\"anio\":anio, \"mes\":mes, \"entidad\":entidad, \"municipio\":municipio})\n",
    "response = requests.post(Url+'/fuente-externa/graficas/anio-meses-dias-pie',data=data)\n",
    "\n",
    "print(response.text)\n",
    "print(\"Estatus del codigo:\", response.status_code)"
   ]
  },
  {
   "cell_type": "code",
   "execution_count": null,
   "metadata": {},
   "outputs": [],
   "source": [
    "# VII. SERVICIO DE SCATTER DE LA BASE FUENTE EXTERNA AÑO ACTUAL VS AÑO ANTERIOR\n",
    "\n",
    "años = [0]\n",
    "mes = [0]\n",
    "entidad = [0]\n",
    "municipio = [0]\n",
    "\n",
    "data=json.dumps({\"años\":años,\"mes\":mes,\"entidad\":entidad,\"municipio\":municipio})\n",
    "\n",
    "response = requests.post(Url+'/fuente-externa/graficas/anio-anterior-scatter',data=data)\n",
    "\n",
    "print(response.text)\n",
    "print(\"Estatus del codigo:\", response.status_code)"
   ]
  },
  {
   "cell_type": "code",
   "execution_count": null,
   "metadata": {},
   "outputs": [],
   "source": [
    "# VIII. SERVICIO DE TABLA DE LA BASE FUENTE EXTERNA POR MESES, AÑO ACTUAL VS AÑO ANTERIOR\n",
    "\n",
    "anio = [0]\n",
    "mes = [0]\n",
    "entidad = [0]\n",
    "municipio = [0]\n",
    "\n",
    "data=json.dumps({\"anio\":anio, \"mes\":mes, \"entidad\":entidad, \"municipio\":municipio})\n",
    "response = requests.post(Url+'/fuente-externa/graficas/meses-acumulado-tabla',data=data)\n",
    "\n",
    "print(response.text)\n",
    "print(\"Estatus del codigo:\", response.status_code)"
   ]
  }
 ],
 "metadata": {
  "kernelspec": {
   "display_name": "venv",
   "language": "python",
   "name": "python3"
  },
  "language_info": {
   "codemirror_mode": {
    "name": "ipython",
    "version": 3
   },
   "file_extension": ".py",
   "mimetype": "text/x-python",
   "name": "python",
   "nbconvert_exporter": "python",
   "pygments_lexer": "ipython3",
   "version": "3.12.4"
  }
 },
 "nbformat": 4,
 "nbformat_minor": 2
}
