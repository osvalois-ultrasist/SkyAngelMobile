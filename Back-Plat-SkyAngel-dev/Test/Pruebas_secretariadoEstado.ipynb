{
 "cells": [
  {
   "cell_type": "code",
   "execution_count": 6,
   "metadata": {},
   "outputs": [
    {
     "data": {
      "text/plain": [
       "'http://127.0.0.1:5000'"
      ]
     },
     "execution_count": 6,
     "metadata": {},
     "output_type": "execute_result"
    }
   ],
   "source": [
    "import requests\n",
    "import json\n",
    "# Construimos la URL de la API\n",
    "Host = '127.0.0.1'\n",
    "Port = '5000'\n",
    "Url = 'http://'+Host+':'+Port\n",
    "Url"
   ]
  },
  {
   "cell_type": "code",
   "execution_count": 8,
   "metadata": {},
   "outputs": [
    {
     "name": "stdout",
     "output_type": "stream",
     "text": [
      "{\"title\": \"Delitos por Estado\", \"serie\": {\"dataKey\": \"crimenes\", \"color\": \"#ab47bc\", \"fontSize\": 14, \"chartWidth\": [850], \"chartHeight\": [700], \"axisColor\": \"#000\", \"yAxisWidth\": [500], \"xAxisLabel\": \"N\\u00famero de Cr\\u00edmenes\", \"scaleType\": \"band\", \"layout\": \"horizontal\", \"grid\": {\"vertical\": true}, \"margin\": {\"top\": 10, \"right\": 40, \"bottom\": 50, \"left\": 200}}, \"data\": [{\"entidad\": \"M\\u00e9xico\", \"crimenes\": 39072}, {\"entidad\": \"Puebla\", \"crimenes\": 15953}, {\"entidad\": \"Michoac\\u00e1n de Ocampo\", \"crimenes\": 9776}, {\"entidad\": \"Nuevo Le\\u00f3n\", \"crimenes\": 5975}, {\"entidad\": \"Morelos\", \"crimenes\": 5860}, {\"entidad\": \"Jalisco\", \"crimenes\": 4536}, {\"entidad\": \"Tlaxcala\", \"crimenes\": 4010}, {\"entidad\": \"San Luis Potos\\u00ed\", \"crimenes\": 3328}, {\"entidad\": \"Ciudad de M\\u00e9xico\", \"crimenes\": 1462}, {\"entidad\": \"Oaxaca\", \"crimenes\": 1072}, {\"entidad\": \"Veracruz de Ignacio de la Llave\", \"crimenes\": 984}, {\"entidad\": \"Quer\\u00e9taro\", \"crimenes\": 468}, {\"entidad\": \"Quintana Roo\", \"crimenes\": 364}, {\"entidad\": \"Baja California\", \"crimenes\": 333}, {\"entidad\": \"Hidalgo\", \"crimenes\": 305}, {\"entidad\": \"Chihuahua\", \"crimenes\": 298}, {\"entidad\": \"Chiapas\", \"crimenes\": 281}, {\"entidad\": \"Guanajuato\", \"crimenes\": 238}, {\"entidad\": \"Sonora\", \"crimenes\": 155}, {\"entidad\": \"Durango\", \"crimenes\": 115}, {\"entidad\": \"Coahuila de Zaragoza\", \"crimenes\": 110}, {\"entidad\": \"Tamaulipas\", \"crimenes\": 90}, {\"entidad\": \"Zacatecas\", \"crimenes\": 79}, {\"entidad\": \"Tabasco\", \"crimenes\": 62}, {\"entidad\": \"Colima\", \"crimenes\": 47}, {\"entidad\": \"Guerrero\", \"crimenes\": 29}, {\"entidad\": \"Sinaloa\", \"crimenes\": 26}, {\"entidad\": \"Campeche\", \"crimenes\": 20}, {\"entidad\": \"Baja California Sur\", \"crimenes\": 16}, {\"entidad\": \"Aguascalientes\", \"crimenes\": 11}, {\"entidad\": \"Nayarit\", \"crimenes\": 0}, {\"entidad\": \"Yucat\\u00e1n\", \"crimenes\": 0}]}\n",
      "Estatus del codigo: 200\n"
     ]
    }
   ],
   "source": [
    "# Datos de prueba\n",
    "años = [2015,2016,2017,2018,2019,2020,2021,2022,2023,2024]\n",
    "entidad = [1,2,3,4,5,6,7,8,9,10,11,12,13,14,15,16,17,18,19,20,21,22,23,24,25,26,27,28,29,30,31,32]\n",
    "subtipoDeDelito = [41]\n",
    "\n",
    "data=json.dumps({\"años\":años,\"entidad\":entidad,\"subtipoDeDelito\":subtipoDeDelito})\n",
    "\n",
    "response = requests.post(Url+'/secBarrasEstado',data=data)\n",
    "\n",
    "# Imprimir la respuesta\n",
    "print(response.text)\n",
    "print(\"Estatus del codigo:\", response.status_code)"
   ]
  },
  {
   "cell_type": "code",
   "execution_count": 7,
   "metadata": {},
   "outputs": [
    {
     "name": "stdout",
     "output_type": "stream",
     "text": [
      "{\"title\": \"Delitos en los 20 Municipios con Mayor Siniestralidad\", \"serie\": {\"dataKey\": \"crimenes\", \"color\": \"#dc143c\", \"barWidth\": 20, \"barSpacing\": 5, \"fontSize\": 14, \"chartWidth\": [850], \"chartHeight\": [700], \"axisColor\": \"#000\", \"yAxisWidth\": [1100], \"xAxisLabel\": \"N\\u00famero de Cr\\u00edmenes\", \"scaleType\": \"band\", \"layout\": \"horizontal\", \"grid\": {\"vertical\": true}, \"margin\": {\"top\": 10, \"right\": 40, \"bottom\": 50, \"left\": 200}}, \"data\": [{\"municipio\": \"Aguascalientes, Aguascalientes\", \"crimenes\": 256043}, {\"municipio\": \"Tlaola, Puebla\", \"crimenes\": 1015}, {\"municipio\": \"Tlaltenango, Puebla\", \"crimenes\": 549}, {\"municipio\": \"Tlanepantla, Puebla\", \"crimenes\": 190}, {\"municipio\": \"Tlapacoya, Puebla\", \"crimenes\": 99}]}\n",
      "Estatus del codigo: 200\n"
     ]
    }
   ],
   "source": [
    "# Datos de prueba\n",
    "años = [2015,2016,2017,2018,2019,2020,2021,2022,2023,2024]\n",
    "municipio = [1001,21181,21182,21183,21184]\n",
    "subtipoDeDelito = [41]\n",
    "\n",
    "\n",
    "\n",
    "data=json.dumps({\"años\":años,\"municipio\":municipio,\"subtipoDeDelito\":subtipoDeDelito})\n",
    "response = requests.post(Url+'/secBarrasMunicipio',data=data)\n",
    "\n",
    "# Imprimir la respuesta\n",
    "print(response.text)\n",
    "print(\"Estatus del codigo:\", response.status_code)"
   ]
  },
  {
   "cell_type": "code",
   "execution_count": 13,
   "metadata": {},
   "outputs": [
    {
     "name": "stdout",
     "output_type": "stream",
     "text": [
      "{\"title\": \"Total de Delitos por A\\u00f1o\", \"series\": [{\"label\": \"Cr\\u00edmenes anuales\", \"data\": [5026, 5926, 8917, 9453, 8946, 7135, 6424, 6420, 7026, 5986]}, {\"label\": \"Cr\\u00edmenes por mes\", \"data\": [[543, 581, 595, 506, 529, 579, 521, 604, 568], [542, 593, 563, 598, 576, 648, 814, 755, 837], [977, 918, 1054, 942, 993, 1034, 986, 1030, 983], [988, 1051, 1185, 1066, 1120, 954, 956, 1110, 1023], [1158, 1047, 1118, 1018, 1052, 813, 873, 916, 951], [741, 710, 774, 878, 720, 877, 884, 815, 736], [701, 651, 677, 692, 719, 746, 711, 778, 749], [687, 673, 804, 690, 685, 727, 700, 741, 713], [819, 685, 868, 739, 836, 813, 709, 790, 767], [728, 653, 649, 701, 684, 614, 667, 660, 630]]}], \"colors\": {\"anual\": \"#ab47bc\", \"meses\": [\"#ff6384\", \"#36a2eb\", \"#cc65fe\", \"#ffce56\", \"#ff6384\", \"#36a2eb\", \"#cc65fe\", \"#ffce56\", \"#ff6384\", \"#36a2eb\", \"#cc65fe\", \"#ffce56\"]}, \"labels\": {\"yAxisLabel\": \"N\\u00famero de cr\\u00edmenes\", \"monthLabels\": [\"Enero\", \"Febrero\", \"Marzo\", \"Abril\", \"Mayo\", \"Junio\", \"Julio\", \"Agosto\", \"Septiembre\", \"Octubre\", \"Noviembre\", \"Diciembre\"]}, \"chartDimensions\": {\"width\": 1400, \"height\": 400}, \"chartParams\": {\"categoryGapRatio\": 0.3, \"barGapRatio\": 0.1, \"translateX\": -20, \"width\": \"100%\"}}\n",
      "Estatus del codigo: 200\n"
     ]
    }
   ],
   "source": [
    "# Datos de prueba\n",
    "años = [2015,2016,2017,2018,2019,2020,2021,2022,2023,2024]\n",
    "meses = [1,2,3,4,5,6,7,8,9]\n",
    "subtipoDeDelito = [41]\n",
    "\n",
    "\n",
    "data=json.dumps({\"años\":años,\"mes\":meses,\"subtipoDeDelito\":subtipoDeDelito})\n",
    "response = requests.post(Url+'/secBarrasAcum',data=data)\n",
    "\n",
    "# Imprimir la respuesta\n",
    "print(response.text)\n",
    "print(\"Estatus del codigo:\", response.status_code)"
   ]
  }
 ],
 "metadata": {
  "kernelspec": {
   "display_name": "skyvirtualenv",
   "language": "python",
   "name": "python3"
  },
  "language_info": {
   "codemirror_mode": {
    "name": "ipython",
    "version": 3
   },
   "file_extension": ".py",
   "mimetype": "text/x-python",
   "name": "python",
   "nbconvert_exporter": "python",
   "pygments_lexer": "ipython3",
   "version": "3.12.0"
  }
 },
 "nbformat": 4,
 "nbformat_minor": 2
}
