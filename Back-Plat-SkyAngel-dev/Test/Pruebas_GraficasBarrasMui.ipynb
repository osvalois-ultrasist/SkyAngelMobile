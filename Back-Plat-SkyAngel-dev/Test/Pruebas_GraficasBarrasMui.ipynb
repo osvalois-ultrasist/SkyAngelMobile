{
 "cells": [
  {
   "cell_type": "code",
   "execution_count": 3,
   "metadata": {},
   "outputs": [
    {
     "data": {
      "text/plain": [
       "'http://127.0.0.1:5000'"
      ]
     },
     "execution_count": 3,
     "metadata": {},
     "output_type": "execute_result"
    }
   ],
   "source": [
    "import requests\n",
    "import json\n",
    "# Construimos la URL de la API\n",
    "Host = '127.0.0.1'\n",
    "Port = '5000'\n",
    "Url = 'http://'+Host+':'+Port\n",
    "Url"
   ]
  },
  {
   "cell_type": "code",
   "execution_count": 6,
   "metadata": {},
   "outputs": [
    {
     "name": "stdout",
     "output_type": "stream",
     "text": [
      "{\"xAxisParam\": {\"scaleType\": \"band\", \"dataKey\": \"mes\"}, \"yAxisParam\": {\"label\": \"N\\u00famero de delitos\"}, \"mesNombre\": {\"1\": \"Enero\", \"2\": \"Febrero\", \"3\": \"Marzo\", \"4\": \"Abril\", \"5\": \"Mayo\", \"6\": \"Junio\", \"7\": \"Julio\", \"8\": \"Agosto\", \"9\": \"Septiembre\", \"10\": \"Octubre\", \"11\": \"Noviembre\", \"12\": \"Diciembre\"}, \"data\": {\"2019\": {\"9\": 0, \"7\": 0, \"6\": 0, \"5\": 3, \"4\": 3, \"3\": 0, \"8\": 1}, \"2023\": {\"7\": 0, \"4\": 0, \"3\": 1, \"6\": 1, \"5\": 0, \"9\": 0, \"8\": 0}}, \"width\": [1200], \"height\": [400], \"color\": \"#fad0e1\", \"fontSize\": 20, \"fontFamily\": \"Verdana\"}\n",
      "Estatus del codigo: 200\n"
     ]
    }
   ],
   "source": [
    "# Datos de prueba\n",
    "años = [2019,2023]\n",
    "mes = [3,4,5,6,7,8,9]\n",
    "incidencias = [1,2]\n",
    "municipios = [1001,21181,21182,21183,21184]\n",
    "\n",
    "data=json.dumps({\"años\":años,\"mes\":mes,\"incidencias\":incidencias,\"municipios\":municipios})\n",
    "response = requests.post(Url+'/secBarras',data=data)\n",
    "\n",
    "# Imprimir la respuesta\n",
    "print(response.text)\n",
    "print(\"Estatus del codigo:\", response.status_code)"
   ]
  }
 ],
 "metadata": {
  "kernelspec": {
   "display_name": "skyvirtualenv",
   "language": "python",
   "name": "python3"
  },
  "language_info": {
   "codemirror_mode": {
    "name": "ipython",
    "version": 3
   },
   "file_extension": ".py",
   "mimetype": "text/x-python",
   "name": "python",
   "nbconvert_exporter": "python",
   "pygments_lexer": "ipython3",
   "version": "3.11.9"
  }
 },
 "nbformat": 4,
 "nbformat_minor": 2
}
