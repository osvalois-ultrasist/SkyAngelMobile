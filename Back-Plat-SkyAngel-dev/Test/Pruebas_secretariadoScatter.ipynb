{
 "cells": [
  {
   "cell_type": "code",
   "execution_count": 3,
   "metadata": {},
   "outputs": [
    {
     "data": {
      "text/plain": [
       "'http://127.0.0.1:5000'"
      ]
     },
     "execution_count": 3,
     "metadata": {},
     "output_type": "execute_result"
    }
   ],
   "source": [
    "import requests\n",
    "import json\n",
    "# Construimos la URL de la API\n",
    "Host = '127.0.0.1'\n",
    "Port = '5000'\n",
    "Url = 'http://'+Host+':'+Port\n",
    "Url"
   ]
  },
  {
   "cell_type": "code",
   "execution_count": 7,
   "metadata": {},
   "outputs": [
    {
     "name": "stdout",
     "output_type": "stream",
     "text": [
      "{\"years\": [\"2024\", \"2023\", \"2022\", \"2021\", \"2020\", \"2019\", \"2018\", \"2017\", \"2016\", \"2015\"], \"months\": [\"Enero\", \"Febrero\", \"Marzo\", \"Abril\", \"Mayo\", \"Junio\", \"Julio\", \"Agosto\", \"Septiembre\", \"Octubre\", \"Noviembre\", \"Diciembre\"], \"data\": {\"2015\": [353, 251, 277, 197, 406, 214], \"2016\": [299, 242, 255, 340, 298, 315], \"2017\": [439, 345, 356, 425, 410, 486], \"2018\": [613, 502, 494, 646, 531, 654], \"2019\": [664, 521, 519, 683, 655, 680], \"2020\": [751, 741, 768, 888, 897, 850], \"2021\": [1101, 964, 933, 1075, 1068, 1108], \"2022\": [1112, 928, 827, 1103, 1127, 1189], \"2023\": [1132, 1043, 954, 1389, 1258, 1274], \"2024\": [1032, 1015, 1117]}}\n",
      "Estatus del codigo: 200\n"
     ]
    }
   ],
   "source": [
    "# Datos de prueba\n",
    "años = [2015, 2016, 2017, 2018, 2019, 2020, 2021, 2022, 2023, 2024]\n",
    "mes = [1, 2, 3, 4, 5, 6]\n",
    "subtipo_de_delito = [33]\n",
    "data=json.dumps({\"años\":años,\"mes\":mes,\"subtipo_de_delito\":subtipo_de_delito})\n",
    "\n",
    "response = requests.post(Url+'/secScatterAnioAnterior',data=data)\n",
    "\n",
    "# Imprimir la respuesta\n",
    "print(response.text)\n",
    "print(\"Estatus del codigo:\", response.status_code)"
   ]
  }
 ],
 "metadata": {
  "kernelspec": {
   "display_name": "skyvirtualenv",
   "language": "python",
   "name": "python3"
  },
  "language_info": {
   "codemirror_mode": {
    "name": "ipython",
    "version": 3
   },
   "file_extension": ".py",
   "mimetype": "text/x-python",
   "name": "python",
   "nbconvert_exporter": "python",
   "pygments_lexer": "ipython3",
   "version": "3.11.9"
  }
 },
 "nbformat": 4,
 "nbformat_minor": 2
}
