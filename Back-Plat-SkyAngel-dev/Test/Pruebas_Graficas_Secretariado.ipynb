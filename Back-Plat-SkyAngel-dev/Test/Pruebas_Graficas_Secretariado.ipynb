{
 "cells": [
  {
   "cell_type": "markdown",
   "metadata": {},
   "source": [
    "PRUEBAS DE SERVICIOS PARA BASE DE DATOS DEL SECRETARIADO."
   ]
  },
  {
   "cell_type": "code",
   "execution_count": null,
   "metadata": {},
   "outputs": [],
   "source": [
    "import requests\n",
    "import json\n",
    "\n",
    "# Construimos la URL de la API\n",
    "\n",
    "Host = '127.0.0.1'\n",
    "Port = '5000'\n",
    "Url = 'http://'+Host+':'+Port\n",
    "Url"
   ]
  },
  {
   "cell_type": "code",
   "execution_count": null,
   "metadata": {},
   "outputs": [],
   "source": [
    "# I. SERVICIO DE GRÁFICA DE BARRAS POR ESTADO\n",
    "\n",
    "años = [0]\n",
    "mes = [0]\n",
    "entidad = [0]\n",
    "municipio = [0]\n",
    "bienJuridicoAfectado = [0]\n",
    "tipoDeDelito = [0]\n",
    "subtipoDeDelito = [0]\n",
    "modalidad = [0]\n",
    "\n",
    "data=json.dumps({\"años\":años,\"mes\":mes,\"entidad\":entidad,\"municipio\":municipio,\"bienJuridicoAfectado\":bienJuridicoAfectado,\"tipoDeDelito\":tipoDeDelito,\"subtipoDeDelito\":subtipoDeDelito,\"modalidad\":modalidad})\n",
    "\n",
    "response = requests.post(Url+'/secretariado/graficas/estado-barras',data=data)\n",
    "\n",
    "# Imprimir la respuesta\n",
    "print(response.text)\n",
    "print(\"Estatus del codigo:\", response.status_code)"
   ]
  },
  {
   "cell_type": "code",
   "execution_count": null,
   "metadata": {},
   "outputs": [],
   "source": [
    "# II. SERVICIO DE GRÁFICA DE BARRAS POR MUNICIPIO\n",
    "\n",
    "años = [0]\n",
    "mes = [0]\n",
    "entidad = [0]\n",
    "municipio = [0]\n",
    "#municipio = [i for i in range(1000,2000)]\n",
    "bienJuridicoAfectado = [0]\n",
    "tipoDeDelito = [0]\n",
    "subtipoDeDelito = [0]\n",
    "modalidad = [0]\n",
    "\n",
    "data=json.dumps({\"años\":años,\"mes\":mes,\"entidad\":entidad,\"municipio\":municipio,\"bienJuridicoAfectado\":bienJuridicoAfectado,\"tipoDeDelito\":tipoDeDelito,\"subtipoDeDelito\":subtipoDeDelito,\"modalidad\":modalidad})\n",
    "response = requests.post(Url+'/secretariado/graficas/municipio-barras',data=data)\n",
    "\n",
    "# Imprimir la respuesta\n",
    "print(response.text)\n",
    "print(\"Estatus del codigo:\", response.status_code)"
   ]
  },
  {
   "cell_type": "code",
   "execution_count": null,
   "metadata": {},
   "outputs": [],
   "source": [
    "    # III. SERVICIO DE GRÁFICA DE SCATTER TENDENCIA, AÑO ACTUAL VS AÑO ANTERIOR POR MESES\n",
    "\n",
    "años = [0]\n",
    "mes = [0]\n",
    "entidad = [0]\n",
    "municipio = [0]\n",
    "#municipio = [i for i in range(1000,2000)]\n",
    "bienJuridicoAfectado = [0]\n",
    "tipoDeDelito = [0]\n",
    "subtipoDeDelito = [0]\n",
    "modalidad = [0]\n",
    "\n",
    "data=json.dumps({\"años\":años,\"mes\":mes,\"entidad\":entidad,\"municipio\":municipio,\"bienJuridicoAfectado\":bienJuridicoAfectado,\"tipoDeDelito\":tipoDeDelito,\"subtipoDeDelito\":subtipoDeDelito,\"modalidad\":modalidad})\n",
    "\n",
    "response = requests.post(Url+'/secretariado/graficas/anio-anterior-scatter',data=data)\n",
    "\n",
    "# Imprimir la respuesta\n",
    "print(response.text)\n",
    "print(\"Estatus del codigo:\", response.status_code)"
   ]
  },
  {
   "cell_type": "code",
   "execution_count": null,
   "metadata": {},
   "outputs": [],
   "source": [
    "# IV. SERVICIO DE GRÁFICA DE BARRAS ACUMULADAS, MESES, AÑOS\n",
    "\n",
    "años = [0]\n",
    "mes = [0]\n",
    "entidad = [0]\n",
    "municipio = [0]\n",
    "bienJuridicoAfectado = [0]\n",
    "tipoDeDelito = [0]\n",
    "subtipoDeDelito = [0]\n",
    "modalidad = [0]\n",
    "\n",
    "data=json.dumps({\"años\":años,\"mes\":mes,\"entidad\":entidad,\"municipio\":municipio,\"bienJuridicoAfectado\":bienJuridicoAfectado,\"tipoDeDelito\":tipoDeDelito,\"subtipoDeDelito\":subtipoDeDelito,\"modalidad\":modalidad})\n",
    "response = requests.post(Url+'/secretariado/graficas/acumulado-mensual-barras',data=data)\n",
    "\n",
    "# Imprimir la respuesta\n",
    "print(response.text)\n",
    "print(\"Estatus del codigo:\", response.status_code)"
   ]
  },
  {
   "cell_type": "code",
   "execution_count": null,
   "metadata": {},
   "outputs": [],
   "source": [
    "# Prueba de Mapper, para probar filtro en cero\n",
    "\n",
    "import os\n",
    "import sys\n",
    "\n",
    "# Obtener el directorio base\n",
    "BASE_PATH = os.getcwd()\n",
    "# print(os.path.dirname(BASE_PATH))\n",
    "\n",
    "# Agregar el directorio `app` al sys.path\n",
    "sys.path.append(os.path.join(os.path.dirname(BASE_PATH)))\n",
    "\n",
    "from app.mapper.graficas_secretariadoAcumBarras_mapper import secretariadoBarrasAcumMapper\n",
    "\n",
    "resultado = secretariadoBarrasAcumMapper().selectIncidentes([2023],[0],[9],[9002],[1],[33],[41],[10])\n",
    "\n",
    "resultado"
   ]
  },
  {
   "cell_type": "code",
   "execution_count": null,
   "metadata": {},
   "outputs": [],
   "source": [
    "# V. SERVICIO DE GRÁFICA DE PIE\n",
    "\n",
    "años = [0]\n",
    "mes = [0]\n",
    "entidad = [0]\n",
    "municipio = [0]\n",
    "bienJuridicoAfectado = [0]\n",
    "tipoDeDelito = [0]\n",
    "subtipoDeDelito = [0]\n",
    "modalidad = [0]\n",
    "\n",
    "# subtipoDeDelito = [i for i in range(1,45)]\n",
    "# modalidad = [i for i in range(1,53)]\n",
    "\n",
    "data=json.dumps({\"años\":años,\"mes\":mes,\"entidad\":entidad,\"municipio\":municipio,\"bienJuridicoAfectado\":bienJuridicoAfectado,\"tipoDeDelito\":tipoDeDelito,\"subtipoDeDelito\":subtipoDeDelito,\"modalidad\":modalidad})\n",
    "\n",
    "response = requests.post(Url+'/secretariado/graficas/bienJuridicoAfectado-tipoDeDelito-subtipoDeDelito-modalidad-pie',data=data)\n",
    "\n",
    "# Imprimir la respuesta\n",
    "print(response.text)\n",
    "print(\"Estatus del codigo:\", response.status_code)"
   ]
  }
 ],
 "metadata": {
  "kernelspec": {
   "display_name": "venv",
   "language": "python",
   "name": "python3"
  },
  "language_info": {
   "codemirror_mode": {
    "name": "ipython",
    "version": 3
   },
   "file_extension": ".py",
   "mimetype": "text/x-python",
   "name": "python",
   "nbconvert_exporter": "python",
   "pygments_lexer": "ipython3",
   "version": "3.12.4"
  }
 },
 "nbformat": 4,
 "nbformat_minor": 2
}
