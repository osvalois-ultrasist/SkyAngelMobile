{
 "cells": [
  {
   "cell_type": "markdown",
   "metadata": {},
   "source": [
    "### MAPAS MUNICIPIOS"
   ]
  },
  {
   "cell_type": "code",
   "execution_count": null,
   "metadata": {},
   "outputs": [],
   "source": [
    "import requests\n",
    "\n",
    "# Construimos la URL de la API\n",
    "Host = '127.0.0.1'\n",
    "Port = '5000'\n",
    "Url = 'http://'+Host+':'+Port\n",
    "Url     "
   ]
  },
  {
   "cell_type": "code",
   "execution_count": null,
   "metadata": {},
   "outputs": [],
   "source": [
    "params = {\"idMunicipio\": 3}\n",
    "response = requests.get(Url+'/mapas/municipio',params=params)\n",
    "\n",
    "\n",
    "print(response.text)\n",
    "print(\"Estatus del codigo:\", response.status_code)"
   ]
  },
  {
   "cell_type": "markdown",
   "metadata": {},
   "source": [
    "### MAPAS ESTADOS"
   ]
  },
  {
   "cell_type": "code",
   "execution_count": null,
   "metadata": {},
   "outputs": [],
   "source": [
    "import requests\n",
    "\n",
    "# Construimos la URL de la API\n",
    "Host = '127.0.0.1'\n",
    "Port = '5000'\n",
    "Url = 'http://'+Host+':'+Port\n",
    "Url     "
   ]
  },
  {
   "cell_type": "code",
   "execution_count": null,
   "metadata": {},
   "outputs": [],
   "source": [
    "params = {\"idEstado\": 9000}\n",
    "response = requests.get(Url+'/mapas/estado',params=params)\n",
    "\n",
    "\n",
    "print(response.text)\n",
    "print(\"Estatus del codigo:\", response.status_code)"
   ]
  },
  {
   "cell_type": "markdown",
   "metadata": {},
   "source": [
    "### Revisión Mapas_mapper para método select_delitos_vista"
   ]
  },
  {
   "cell_type": "code",
   "execution_count": null,
   "metadata": {},
   "outputs": [],
   "source": [
    "import os\n",
    "import sys\n",
    "\n",
    "# Obtener el directorio base\n",
    "BASE_PATH = os.getcwd()\n",
    "# print(os.path.dirname(BASE_PATH))\n",
    "\n",
    "# Agregar el directorio `app` al sys.path\n",
    "sys.path.append(os.path.join(os.path.dirname(BASE_PATH)))\n",
    "\n",
    "from app.mapper.mapas_mapper import Mapas_mapper\n",
    "\n",
    "\n",
    "resultado = Mapas_mapper().select_vista([1001],[2023],[10],[25],[8])"
   ]
  },
  {
   "cell_type": "code",
   "execution_count": null,
   "metadata": {},
   "outputs": [],
   "source": [
    "resultado"
   ]
  },
  {
   "cell_type": "markdown",
   "metadata": {},
   "source": [
    "### MAPAS FILTROS"
   ]
  },
  {
   "cell_type": "markdown",
   "metadata": {},
   "source": [
    "#### Mejora de servicio para SUM_DELITOS_MUNICIPIO_MES"
   ]
  },
  {
   "cell_type": "code",
   "execution_count": null,
   "metadata": {},
   "outputs": [],
   "source": [
    "import requests\n",
    "\n",
    "# Construimos la URL de la API\n",
    "Host = '127.0.0.1'\n",
    "Port = '5000'\n",
    "Url = 'http://'+Host+':'+Port\n",
    "Url "
   ]
  },
  {
   "cell_type": "code",
   "execution_count": null,
   "metadata": {},
   "outputs": [],
   "source": [
    "## Esta prueba es el equivalente del servicio SUM_DELITOS_MUNICIPIO_MES como mejora y es versión 1\n",
    "data = {\n",
    "    \"municipios\": [1001],\n",
    "    \"anios\": [2023],\n",
    "    \"meses\": [10],\n",
    "    \"subtiposDelitos\": [25],\n",
    "    \"modalidades\": [8]\n",
    "}\n",
    "response = requests.post(Url+'/mapas/municipios/filtros',json=data)\n",
    "\n",
    "\n",
    "print(response.text)\n",
    "print(\"Estatus del codigo:\", response.status_code)"
   ]
  },
  {
   "cell_type": "code",
   "execution_count": null,
   "metadata": {},
   "outputs": [],
   "source": [
    "## Esta prueba es el equivalente del servicio SUM_DELITOS_MUNICIPIO_MES como mejora y es versión 2 pero queda como pendiente\n",
    "data = {\n",
    "    \"municipios\": [1001,1002],\n",
    "    \"anios\": [0],\n",
    "    \"meses\": [1,2,3],\n",
    "    \"delitos\": [66,67]\n",
    "}\n",
    "response = requests.post(Url+'/mapas/municipios/filtros2',json=data)\n",
    "\n",
    "\n",
    "print(response.text)\n",
    "print(\"Estatus del codigo:\", response.status_code)"
   ]
  },
  {
   "cell_type": "markdown",
   "metadata": {},
   "source": [
    "#### Mejora de servicio para SUM_DELITOS_MUNICIPIO_MES_FUENTES_EXTERNAS"
   ]
  },
  {
   "cell_type": "code",
   "execution_count": null,
   "metadata": {},
   "outputs": [],
   "source": [
    "import requests\n",
    "\n",
    "# Construimos la URL de la API\n",
    "Host = '127.0.0.1'\n",
    "Port = '5000'\n",
    "Url = 'http://'+Host+':'+Port\n",
    "Url "
   ]
  },
  {
   "cell_type": "code",
   "execution_count": null,
   "metadata": {},
   "outputs": [],
   "source": [
    "## Esta prueba es el equivalente del servicio SUM_DELITOS_MUNICIPIO_MES_ANERPV\n",
    "data = {\n",
    "    \"municipios\": [9004],\n",
    "    \"anios\": [2023],\n",
    "    \"meses\": [1,2,3]\n",
    "}\n",
    "response = requests.post(Url+'/estadisticas-delitos/fuentes-externas/consulta-por-filtros-mapas-municipios',json=data)\n",
    "\n",
    "\n",
    "print(response.text)\n",
    "print(\"Estatus del codigo:\", response.status_code)"
   ]
  },
  {
   "cell_type": "code",
   "execution_count": null,
   "metadata": {},
   "outputs": [],
   "source": [
    "import os\n",
    "import sys\n",
    "\n",
    "# Obtener el directorio base\n",
    "BASE_PATH = os.getcwd()\n",
    "# print(os.path.dirname(BASE_PATH))\n",
    "\n",
    "# Agregar el directorio `app` al sys.path\n",
    "sys.path.append(os.path.join(os.path.dirname(BASE_PATH)))\n",
    "\n",
    "from app.mapper.mapas_mapper import Mapas_mapper\n",
    "\n",
    "\n",
    "resultado = Mapas_mapper().select_vista_fe([2024],[1],[1001])\n",
    "print(resultado)"
   ]
  },
  {
   "cell_type": "markdown",
   "metadata": {},
   "source": [
    "#### Mejora de servicio para SUM_DELITOS_ENTIDAD_MES_FUENTES_EXTERNAS"
   ]
  },
  {
   "cell_type": "code",
   "execution_count": null,
   "metadata": {},
   "outputs": [],
   "source": [
    "import requests\n",
    "\n",
    "# Construimos la URL de la API\n",
    "Host = '127.0.0.1'\n",
    "Port = '5000'\n",
    "Url = 'http://'+Host+':'+Port\n",
    "Url "
   ]
  },
  {
   "cell_type": "code",
   "execution_count": null,
   "metadata": {},
   "outputs": [],
   "source": [
    "data ={\n",
    "    \n",
    "    \"anios\": [2023],       ## Datos disponibles: 2023 y 2024\n",
    "    \"meses\": [1,2,3,4],       ## Datos disponibles: del 1 al 12\n",
    "    \"entidades\": [22000,19000]    \n",
    "}\n",
    "\n",
    "# Enviar la solicitud POST con el JSON\n",
    "response = requests.post(Url+'/estadisticas-delitos/fuentes-externas/consulta-por-filtros-mapas-entidad', json = data)\n",
    "\n",
    "print(response.text)\n",
    "print(\"Estatus del codigo:\", response.status_code)"
   ]
  },
  {
   "cell_type": "code",
   "execution_count": null,
   "metadata": {},
   "outputs": [],
   "source": [
    "import os\n",
    "import sys\n",
    "\n",
    "# Obtener el directorio base\n",
    "BASE_PATH = os.getcwd()\n",
    "# print(os.path.dirname(BASE_PATH))\n",
    "\n",
    "# Agregar el directorio `app` al sys.path\n",
    "sys.path.append(os.path.join(os.path.dirname(BASE_PATH)))\n",
    "\n",
    "from app.mapper.mapas_mapper import Mapas_mapper\n",
    "\n",
    "\n",
    "resultado = Mapas_mapper().select_vista_fe_en(['09000'],[2023],[1,2,3])\n",
    "# resultado = MapasControlador().select_vista_con_geojson_fe_en([9000],[2023],[1,2,3])\n",
    "print(resultado)"
   ]
  }
 ],
 "metadata": {
  "kernelspec": {
   "display_name": ".venv",
   "language": "python",
   "name": "python3"
  },
  "language_info": {
   "codemirror_mode": {
    "name": "ipython",
    "version": 3
   },
   "file_extension": ".py",
   "mimetype": "text/x-python",
   "name": "python",
   "nbconvert_exporter": "python",
   "pygments_lexer": "ipython3",
   "version": "3.12.7"
  }
 },
 "nbformat": 4,
 "nbformat_minor": 2
}
