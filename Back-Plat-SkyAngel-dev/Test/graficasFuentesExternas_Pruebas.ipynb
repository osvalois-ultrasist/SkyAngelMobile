{
 "cells": [
  {
   "cell_type": "markdown",
   "metadata": {},
   "source": [
    "# NoteBook para las pruebas de Gráficas de Fuentes Externas\n",
    "\n",
    "Este notebook contiene llamados para cada uno de los endpoints de la app\n",
    "referentes a las gráficas de fuentes externas"
   ]
  },
  {
   "cell_type": "code",
   "execution_count": 33,
   "metadata": {},
   "outputs": [
    {
     "data": {
      "text/plain": [
       "'http://127.0.0.1:5000'"
      ]
     },
     "execution_count": 33,
     "metadata": {},
     "output_type": "execute_result"
    }
   ],
   "source": [
    "import requests\n",
    "import json\n",
    "from pprint import pprint\n",
    "# Construimos la URL de la API\n",
    "Host = '127.0.0.1'\n",
    "Port = '5000'\n",
    "Url = 'http://'+Host+':'+Port\n",
    "Url"
   ]
  },
  {
   "cell_type": "markdown",
   "metadata": {},
   "source": [
    "### DATOS DE PRUEBA \n",
    "\n",
    "Se crean dos conjuntos de datos de prueba (correctos e inválidos) para las pruebas de las gráfica a partir de los filtros del front:\n",
    "*   años\n",
    "*   meses\n",
    "*   entidades\n",
    "*   municipios"
   ]
  },
  {
   "cell_type": "code",
   "execution_count": 34,
   "metadata": {},
   "outputs": [],
   "source": [
    "# Datos de prueba \n",
    "anios = [2019,2023]\n",
    "anios_invalidos = ['2019S',2023]\n",
    "meses = [3,4,5,6,7,8,9]\n",
    "entidades = [9,11,13,14,15,16,19,21,22,24,29,30]\n",
    "municipios = [1001,21181,21182,21183,21184]\n"
   ]
  },
  {
   "cell_type": "code",
   "execution_count": 35,
   "metadata": {},
   "outputs": [
    {
     "data": {
      "text/plain": [
       "'{\"anios\": [2019, 2023], \"meses\": [3, 4, 5, 6, 7, 8, 9], \"entidades\": [9, 11, 13, 14, 15, 16, 19, 21, 22, 24, 29, 30], \"municipios\": [1001, 21181, 21182, 21183, 21184]}'"
      ]
     },
     "execution_count": 35,
     "metadata": {},
     "output_type": "execute_result"
    }
   ],
   "source": [
    "#correctos\n",
    "data=json.dumps({\"anios\":anios,\"meses\":meses,\"entidades\":entidades,\"municipios\":municipios})\n",
    "data"
   ]
  },
  {
   "cell_type": "code",
   "execution_count": 36,
   "metadata": {},
   "outputs": [
    {
     "data": {
      "text/plain": [
       "'{\"anios\": [\"2019S\", 2023], \"meses\": [3, 4, 5, 6, 7, 8, 9], \"entidades\": [9, 11, 13, 14, 15, 16, 19, 21, 22, 24, 29, 30], \"municipios\": [1001, 21181, 21182, 21183, 21184]}'"
      ]
     },
     "execution_count": 36,
     "metadata": {},
     "output_type": "execute_result"
    }
   ],
   "source": [
    "#inválidos\n",
    "data_invalida=json.dumps({\"anios\":anios_invalidos,\"meses\":meses,\"entidades\":entidades,\"municipios\":municipios})\n",
    "data_invalida"
   ]
  },
  {
   "cell_type": "markdown",
   "metadata": {},
   "source": [
    "### PRUEBAS ENDPOINT GRÁFICA BARRAS DELITOS POR ENTIDAD\n"
   ]
  },
  {
   "cell_type": "markdown",
   "metadata": {},
   "source": [
    "Endpoint /graficas/fuentes-externas/delitos-por-entidad-barras\n",
    "\n",
    "Código 200: OK"
   ]
  },
  {
   "cell_type": "code",
   "execution_count": 37,
   "metadata": {},
   "outputs": [
    {
     "name": "stdout",
     "output_type": "stream",
     "text": [
      "Prueba OK\n",
      "URL:  http://127.0.0.1:5000/graficas/fuentes-externas/delitos-por-entidad-barras\n",
      "Código:  200\n",
      "('{\"title\": \"Delitos por entidad\", \"xAxisParam\": {\"scaleType\": \"band\", '\n",
      " '\"dataKey\": \"entidades\"}, \"yAxisParam\": {\"label\": \"Cantidad de delitos\"}, '\n",
      " '\"mesNombre\": \"{\\'1\\': \\'Enero\\', \\'2\\': \\'Febrero\\', \\'3\\': \\'Marzo\\', '\n",
      " \"'4': 'Abril', '5': 'Mayo', '6': 'Junio', '7': 'Julio', '8': 'Agosto', '9': \"\n",
      " \"'Septiembre', '10': 'Octubre', '11': 'Noviembre', '12': \"\n",
      " '\\'Diciembre\\'}\", \"data\": {\"data\": {\"México\": 536, \"Tlaxcala\": 43, \"Veracruz '\n",
      " 'de Ignacio de la Llave\": 61, \"Jalisco\": 278, \"Nacional\": 2026, \"Guanajuato\": '\n",
      " '147, \"Hidalgo\": 96, \"Ciudad de México\": 58, \"Michoacán de Ocampo\": 121, '\n",
      " '\"Nuevo León\": 39, \"Querétaro\": 72, \"Puebla\": 299, \"San Luis Potosí\": 68}}, '\n",
      " '\"width\": [1200], \"height\": [400], \"color\": [\"#00ffff\"], \"fontSize\": 20, '\n",
      " '\"fontFamily\": \"Verdana\"}')\n"
     ]
    }
   ],
   "source": [
    "# Prueba de Método [POST] permitido\n",
    "response = requests.post(Url+'/graficas/fuentes-externas/delitos-por-entidad-barras',data=data)\n",
    "# Imprimir la respuesta\n",
    "if response.status_code == 200:\n",
    "    print('Prueba OK')\n",
    "    print('URL: ',response.url)\n",
    "    print('Código: ',response.status_code)\n",
    "    pprint(response.text)\n",
    "else:\n",
    "    print('Prueba fallida')\n",
    "    print('Código: ',response.status_code)\n",
    "    pprint(response.text)"
   ]
  },
  {
   "cell_type": "markdown",
   "metadata": {},
   "source": [
    "Endpoint /graficas/fuentes-externas/delitos-por-entidad-barras\n",
    "\n",
    "Código 400: Parámetros inválidos"
   ]
  },
  {
   "cell_type": "code",
   "execution_count": 38,
   "metadata": {},
   "outputs": [
    {
     "name": "stdout",
     "output_type": "stream",
     "text": [
      "Prueba OK\n",
      "URL:  http://127.0.0.1:5000/graficas/fuentes-externas/delitos-por-entidad-barras\n",
      "Código:  400\n",
      "('{\"respuesta\": \"Error con los parámetros: Parámetros inválidos: [\\'2019S\\', '\n",
      " '2023]\", \"status_code\": 400}')\n"
     ]
    }
   ],
   "source": [
    "# Prueba de Método [POST] permitido, datos inválidos\n",
    "response = requests.post(Url+'/graficas/fuentes-externas/delitos-por-entidad-barras',data=data_invalida)\n",
    "# Imprimir la respuesta\n",
    "if response.status_code == 400:\n",
    "    print('Prueba OK')\n",
    "    print('URL: ',response.url)\n",
    "    print('Código: ',response.status_code)\n",
    "    pprint(response.text)\n",
    "else:\n",
    "    print('Prueba fallida')\n",
    "    print('Código: ',response.status_code)\n",
    "    pprint(response.text)"
   ]
  },
  {
   "cell_type": "markdown",
   "metadata": {},
   "source": [
    "Endpoint /graficas/fuentes-externas/delitos-por-entidad-barras\n",
    "\n",
    "Código 405: Método [GET] no permitido"
   ]
  },
  {
   "cell_type": "code",
   "execution_count": 39,
   "metadata": {},
   "outputs": [
    {
     "name": "stdout",
     "output_type": "stream",
     "text": [
      "Prueba OK\n",
      "URL:  http://127.0.0.1:5000/graficas/fuentes-externas/delitos-por-entidad-barras\n",
      "Código:  405\n",
      "('<!doctype html>\\n'\n",
      " '<html lang=en>\\n'\n",
      " '<title>405 Method Not Allowed</title>\\n'\n",
      " '<h1>Method Not Allowed</h1>\\n'\n",
      " '<p>The method is not allowed for the requested URL.</p>\\n')\n"
     ]
    }
   ],
   "source": [
    "# Prueba de código 405 Método [GET] no permitido\n",
    "response = requests.get(Url+'/graficas/fuentes-externas/delitos-por-entidad-barras',data=data)\n",
    "# Imprimir la respuesta\n",
    "if response.status_code == 405:\n",
    "    print('Prueba OK')\n",
    "    print('URL: ',response.url)\n",
    "    print('Código: ',response.status_code)\n",
    "    pprint(response.text)\n",
    "else:\n",
    "    print('Prueba fallida')\n",
    "    print('Código: ',response.status_code)\n",
    "    pprint(response.text)"
   ]
  },
  {
   "cell_type": "markdown",
   "metadata": {},
   "source": [
    "### PRUEBAS ENDPOINT GRÁFICA BARRAS DELITOS POR MUNICIPIO"
   ]
  },
  {
   "cell_type": "markdown",
   "metadata": {},
   "source": [
    "Endpoint /graficas/fuentes-externas/delitos-por-municipio-barras\n",
    "\n",
    "Código 200: OK"
   ]
  },
  {
   "cell_type": "code",
   "execution_count": 40,
   "metadata": {},
   "outputs": [
    {
     "name": "stdout",
     "output_type": "stream",
     "text": [
      "Prueba OK\n",
      "URL:  http://127.0.0.1:5000/graficas/fuentes-externas/delitos-por-municipio-barras\n",
      "Código:  200\n",
      "('{\"title\": \"Delitos por municipio\", \"xAxisParam\": {\"scaleType\": \"band\", '\n",
      " '\"dataKey\": \"municipios\"}, \"yAxisParam\": {\"label\": \"Cantidad de delitos\"}, '\n",
      " '\"mesNombre\": {\"1\": \"Enero\", \"2\": \"Febrero\", \"3\": \"Marzo\", \"4\": \"Abril\", \"5\": '\n",
      " '\"Mayo\", \"6\": \"Junio\", \"7\": \"Julio\", \"8\": \"Agosto\", \"9\": \"Septiembre\", \"10\": '\n",
      " '\"Octubre\", \"11\": \"Noviembre\", \"12\": \"Diciembre\"}, \"data\": {\"data\": '\n",
      " '{\"Tlanepantla,Puebla\": 0, \"Tlaola,Puebla\": 0, \"Nacional,Nacional\": 2026, '\n",
      " '\"Tlaltenango,Puebla\": 0, \"Tlapacoya,Puebla\": 0}}, \"width\": [1200], \"height\": '\n",
      " '[400], \"color\": [\"#00ffff\"], \"fontSize\": 20, \"fontFamily\": \"Verdana\"}')\n"
     ]
    }
   ],
   "source": [
    "# Prueba de Método [POST] permitido, datos correctos\n",
    "response = requests.post(Url+'/graficas/fuentes-externas/delitos-por-municipio-barras',data=data)\n",
    "# Imprimir la respuesta\n",
    "if response.status_code == 200:\n",
    "    print('Prueba OK')\n",
    "    print('URL: ',response.url)\n",
    "    print('Código: ',response.status_code)\n",
    "    pprint(response.text)\n",
    "else:\n",
    "    print('Prueba fallida')\n",
    "    print('Código: ',response.status_code)\n",
    "    pprint(response.text)"
   ]
  },
  {
   "cell_type": "markdown",
   "metadata": {},
   "source": [
    "Endpoint /graficas/fuentes-externas/delitos-por-municipio-barras\n",
    "\n",
    "Código 400: Parámetros inválidos"
   ]
  },
  {
   "cell_type": "code",
   "execution_count": 41,
   "metadata": {},
   "outputs": [
    {
     "name": "stdout",
     "output_type": "stream",
     "text": [
      "Prueba OK\n",
      "URL:  http://127.0.0.1:5000/graficas/fuentes-externas/delitos-por-municipio-barras\n",
      "Código:  400\n",
      "('{\"respuesta\": \"Error con los parámetros: Parámetros inválidos: [\\'2019S\\', '\n",
      " '2023]\", \"status_code\": 400}')\n"
     ]
    }
   ],
   "source": [
    "# Prueba de Método [POST] permitido, datos inválidos\n",
    "response = requests.post(Url+'/graficas/fuentes-externas/delitos-por-municipio-barras',data=data_invalida)\n",
    "# Imprimir la respuesta\n",
    "if response.status_code == 400:\n",
    "    print('Prueba OK')\n",
    "    print('URL: ',response.url)\n",
    "    print('Código: ',response.status_code)\n",
    "    pprint(response.text)\n",
    "else:\n",
    "    print('Prueba fallida')\n",
    "    print('Código: ',response.status_code)\n",
    "    pprint(response.text)"
   ]
  },
  {
   "cell_type": "markdown",
   "metadata": {},
   "source": [
    "Endpoint /graficas/fuentes-externas/delitos-por-municipio-barras\n",
    "\n",
    "Código 405: Método [GET] no permitido"
   ]
  },
  {
   "cell_type": "code",
   "execution_count": 42,
   "metadata": {},
   "outputs": [
    {
     "name": "stdout",
     "output_type": "stream",
     "text": [
      "Prueba OK\n",
      "URL:  http://127.0.0.1:5000/graficas/fuentes-externas/delitos-por-municipio-barras\n",
      "Código:  405\n",
      "('<!doctype html>\\n'\n",
      " '<html lang=en>\\n'\n",
      " '<title>405 Method Not Allowed</title>\\n'\n",
      " '<h1>Method Not Allowed</h1>\\n'\n",
      " '<p>The method is not allowed for the requested URL.</p>\\n')\n"
     ]
    }
   ],
   "source": [
    "# Prueba de código 405 Método [GET] no permitido\n",
    "response = requests.get(Url+'/graficas/fuentes-externas/delitos-por-municipio-barras',data=data)\n",
    "# Imprimir la respuesta\n",
    "if response.status_code == 405:\n",
    "    print('Prueba OK')\n",
    "    print('URL: ',response.url)\n",
    "    print('Código: ',response.status_code)\n",
    "    pprint(response.text)\n",
    "else:\n",
    "    print('Prueba fallida')\n",
    "    print('Código: ',response.status_code)\n",
    "    pprint(response.text)"
   ]
  },
  {
   "cell_type": "markdown",
   "metadata": {},
   "source": [
    "### PRUEBAS ENDPOINT GRÁFICA BARRAS TOP 20 MUNICIPIOS DELICTIVOS"
   ]
  },
  {
   "cell_type": "markdown",
   "metadata": {},
   "source": [
    "Endpoint /graficas/fuentes-externas/delitos-por-municipio-top20-barras\n",
    "\n",
    "Código 200: OK"
   ]
  },
  {
   "cell_type": "code",
   "execution_count": 43,
   "metadata": {},
   "outputs": [
    {
     "name": "stdout",
     "output_type": "stream",
     "text": [
      "Prueba OK\n",
      "URL:  http://127.0.0.1:5000/graficas/fuentes-externas/delitos-por-municipio-top20-barras\n",
      "Código:  200\n",
      "('{\"title\": \"Delitos en los 20 municipios más peligrosos\", \"xAxisParam\": '\n",
      " '{\"scaleType\": \"band\", \"dataKey\": \"municipios\"}, \"yAxisParam\": {\"label\": '\n",
      " '\"Cantidad de delitos\"}, \"mesNombre\": {\"1\": \"Enero\", \"2\": \"Febrero\", \"3\": '\n",
      " '\"Marzo\", \"4\": \"Abril\", \"5\": \"Mayo\", \"6\": \"Junio\", \"7\": \"Julio\", \"8\": '\n",
      " '\"Agosto\", \"9\": \"Septiembre\", \"10\": \"Octubre\", \"11\": \"Noviembre\", \"12\": '\n",
      " '\"Diciembre\"}, \"data\": {\"data\": {\"Nacional,Nacional\": 2026, '\n",
      " '\"Tlanepantla,Puebla\": 0, \"Tlaola,Puebla\": 0, \"Tlaltenango,Puebla\": 0, '\n",
      " '\"Tlapacoya,Puebla\": 0}}, \"width\": [1200], \"height\": [400], \"color\": '\n",
      " '[\"#00ffff\"], \"fontSize\": 20, \"fontFamily\": \"Verdana\"}')\n"
     ]
    }
   ],
   "source": [
    "# Prueba de Método [POST] permitido\n",
    "response = requests.post(Url+'/graficas/fuentes-externas/delitos-por-municipio-top20-barras',data=data)\n",
    "# Imprimir la respuesta\n",
    "if response.status_code == 200:\n",
    "    print('Prueba OK')\n",
    "    print('URL: ',response.url)\n",
    "    print('Código: ',response.status_code)\n",
    "    pprint(response.text)\n",
    "else:\n",
    "    print('Prueba fallida')\n",
    "    print('Código: ',response.status_code)\n",
    "    pprint(response.text)"
   ]
  },
  {
   "cell_type": "markdown",
   "metadata": {},
   "source": [
    "Endpoint /graficas/fuentes-externas/delitos-por-municipio-top20-barras\n",
    "\n",
    "Código 400: Parámetros inválidos"
   ]
  },
  {
   "cell_type": "code",
   "execution_count": 44,
   "metadata": {},
   "outputs": [
    {
     "name": "stdout",
     "output_type": "stream",
     "text": [
      "Prueba OK\n",
      "URL:  http://127.0.0.1:5000/graficas/fuentes-externas/delitos-por-municipio-top20-barras\n",
      "Código:  400\n",
      "('{\"respuesta\": \"Error con los parámetros: Parámetros inválidos: [\\'2019S\\', '\n",
      " '2023]\", \"status_code\": 400}')\n"
     ]
    }
   ],
   "source": [
    "# Prueba de Método [POST] permitido, datos inválidos\n",
    "response = requests.post(Url+'/graficas/fuentes-externas/delitos-por-municipio-top20-barras',data=data_invalida)\n",
    "# Imprimir la respuesta\n",
    "if response.status_code == 400:\n",
    "    print('Prueba OK')\n",
    "    print('URL: ',response.url)\n",
    "    print('Código: ',response.status_code)\n",
    "    pprint(response.text)\n",
    "else:\n",
    "    print('Prueba fallida')\n",
    "    print('Código: ',response.status_code)\n",
    "    pprint(response.text)"
   ]
  },
  {
   "cell_type": "markdown",
   "metadata": {},
   "source": [
    "Endpoint /graficas/fuentes-externas/delitos-por-municipio-top20-barras\n",
    "\n",
    "Código 405: Método [GET] no permitido"
   ]
  },
  {
   "cell_type": "code",
   "execution_count": 45,
   "metadata": {},
   "outputs": [
    {
     "name": "stdout",
     "output_type": "stream",
     "text": [
      "Prueba OK\n",
      "URL:  http://127.0.0.1:5000/graficas/fuentes-externas/delitos-por-municipio-top20-barras\n",
      "Código:  405\n",
      "('<!doctype html>\\n'\n",
      " '<html lang=en>\\n'\n",
      " '<title>405 Method Not Allowed</title>\\n'\n",
      " '<h1>Method Not Allowed</h1>\\n'\n",
      " '<p>The method is not allowed for the requested URL.</p>\\n')\n"
     ]
    }
   ],
   "source": [
    "# Prueba de código 405 Método [GET] no permitido\n",
    "response = requests.get(Url+'/graficas/fuentes-externas/delitos-por-municipio-top20-barras',data=data)\n",
    "# Imprimir la respuesta\n",
    "if response.status_code == 405:\n",
    "    print('Prueba OK')\n",
    "    print('URL: ',response.url)\n",
    "    print('Código: ',response.status_code)\n",
    "    pprint(response.text)\n",
    "else:\n",
    "    print('Prueba fallida')\n",
    "    print('Código: ',response.status_code)\n",
    "    pprint(response.text)"
   ]
  }
 ],
 "metadata": {
  "kernelspec": {
   "display_name": ".venv",
   "language": "python",
   "name": "python3"
  },
  "language_info": {
   "codemirror_mode": {
    "name": "ipython",
    "version": 3
   },
   "file_extension": ".py",
   "mimetype": "text/x-python",
   "name": "python",
   "nbconvert_exporter": "python",
   "pygments_lexer": "ipython3",
   "version": "3.12.0"
  }
 },
 "nbformat": 4,
 "nbformat_minor": 2
}
