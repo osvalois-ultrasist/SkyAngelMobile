{
 "cells": [
  {
   "cell_type": "markdown",
   "metadata": {},
   "source": [
    "### Pruebas de Servicios del Secretariado"
   ]
  },
  {
   "cell_type": "markdown",
   "metadata": {},
   "source": [
    "#### Construir URL"
   ]
  },
  {
   "cell_type": "code",
   "execution_count": null,
   "metadata": {},
   "outputs": [],
   "source": [
    "import requests\n",
    "\n",
    "# Construimos la URL de la API\n",
    "Host = '127.0.0.1' #Para Local '127.0.0.1'   # Para AWS '18.233.132.113'\n",
    "Port = '8000' # Para Local '8000' # Para AWS '5000'\n",
    "Url = 'http://'+Host+':'+Port\n",
    "Url"
   ]
  },
  {
   "cell_type": "markdown",
   "metadata": {},
   "source": [
    "#### CATÁLOGO DE AÑOS"
   ]
  },
  {
   "cell_type": "code",
   "execution_count": null,
   "metadata": {},
   "outputs": [],
   "source": [
    "# Enviar la solicitud GET para traer el catálogo de años\n",
    "response = requests.get(Url+'/cat_anios')\n",
    "\n",
    "# Imprimir la respuesta\n",
    "print(response.status_code)\n",
    "print(response.text)"
   ]
  },
  {
   "cell_type": "code",
   "execution_count": null,
   "metadata": {},
   "outputs": [],
   "source": [
    "import os\n",
    "import sys\n",
    "\n",
    "# Obtener el directorio base\n",
    "BASE_PATH = os.getcwd()\n",
    "# print(os.path.dirname(BASE_PATH))\n",
    "\n",
    "# Agregar el directorio `app` al sys.path\n",
    "sys.path.append(os.path.join(os.path.dirname(BASE_PATH)))\n",
    "\n",
    "from app.controladores.fun_cat_anios import Anios_mapper\n",
    "\n",
    "resultado = Anios_mapper().select_distinct_anios()\n",
    "\n",
    "resultado"
   ]
  },
  {
   "cell_type": "markdown",
   "metadata": {},
   "source": [
    "#### CATALOGO BIEN JURIDICO"
   ]
  },
  {
   "cell_type": "code",
   "execution_count": null,
   "metadata": {},
   "outputs": [],
   "source": [
    "# Enviar la solicitud GET con el JSON para traer catalogo de la tabla de Bienes Juridicos\n",
    "response = requests.get(Url+'/bien_juridico')\n",
    "\n",
    "# Imprimir la respuesta\n",
    "print(response.status_code)\n",
    "print(response.text)"
   ]
  },
  {
   "cell_type": "markdown",
   "metadata": {},
   "source": [
    "### CATÁLOGO DE DELITOS SECRETARIADO (MODALIDADES Y SUBTIPO DE DELITOS)"
   ]
  },
  {
   "cell_type": "code",
   "execution_count": null,
   "metadata": {},
   "outputs": [],
   "source": [
    "# Enviar la solicitud GET con el JSON para traer catalogo de la tabla de Catálogo de Delitos Secretariado (modalidades y subtipo de delito)\n",
    "response = requests.get(Url+'/delitos_secretariado')\n",
    "\n",
    "# Imprimir la respuesta\n",
    "print(response.status_code)\n",
    "print(response.text)"
   ]
  },
  {
   "cell_type": "code",
   "execution_count": null,
   "metadata": {},
   "outputs": [],
   "source": [
    "# Enviar la solicitud GET con el JSON para traer un valor de id subtipo de delito dentro del catálogo de Delitos de Secretariado\n",
    "id_subtipo_de_delito = 2\n",
    "url = f\"{Url}/delitos_secretariado/{id_subtipo_de_delito}\"\n",
    "response = requests.get(url)\n",
    "\n",
    "# Imprimir la respuesta\n",
    "print(response.status_code)\n",
    "print(response.text)"
   ]
  },
  {
   "cell_type": "code",
   "execution_count": null,
   "metadata": {},
   "outputs": [],
   "source": [
    "# Enviar la solicitud POST con el JSON para traer un valor de id delito por subtipo dentro del catálogo de Delitos de Secretariado\n",
    "\n",
    "#PENDIENTE DE AGREGAR LA MODALIDAD\n",
    "\n",
    "\n",
    "data = {\n",
    "    \"subtipos\": [2,3,4,5]\n",
    "}\n",
    "\n",
    "response = requests.post(Url+'/iddelitosporsubtipo', json=data)\n",
    "\n",
    "# Imprimir la respuesta\n",
    "print(response.status_code)\n",
    "print(response.text)"
   ]
  },
  {
   "cell_type": "markdown",
   "metadata": {},
   "source": [
    "### CATÁLOGO DE MODALIDADES"
   ]
  },
  {
   "cell_type": "code",
   "execution_count": null,
   "metadata": {},
   "outputs": [],
   "source": [
    "import requests\n",
    "\n",
    "# Construimos la URL de la API\n",
    "Host = '127.0.0.1' #Para Local '127.0.0.1'   # Para AWS '18.233.132.113'\n",
    "Port = '8000' # Para Local '8000' # Para AWS '5000'\n",
    "Url = 'http://'+Host+':'+Port\n",
    "Url"
   ]
  },
  {
   "cell_type": "code",
   "execution_count": null,
   "metadata": {},
   "outputs": [],
   "source": [
    "# Enviar la solicitud GET con el JSON para traer catalogo de la tabla de Catálogo de Modalidades\n",
    "response = requests.get(Url+'/modalidad')\n",
    "\n",
    "# Imprimir la respuesta\n",
    "print(response.status_code)\n",
    "print(response.text)"
   ]
  },
  {
   "cell_type": "code",
   "execution_count": null,
   "metadata": {},
   "outputs": [],
   "source": [
    "# Enviar la solicitud POST con el JSON para traer un valor de id subtipo de delito dentro del catálogo de Delitos de Secretariado\n",
    "\n",
    "\n",
    "data = {\n",
    "    \"id_subtipo_de_delito\": [28]\n",
    "}\n",
    "\n",
    "response = requests.post(Url+'/modalidad/id_subtipo_de_delito', json=data)\n",
    "\n",
    "# Imprimir la respuesta\n",
    "print(response.status_code)\n",
    "print(response.text)"
   ]
  },
  {
   "cell_type": "markdown",
   "metadata": {},
   "source": [
    "### CATÁLOGO DE SUBTIPO DE DELITOS"
   ]
  },
  {
   "cell_type": "code",
   "execution_count": null,
   "metadata": {},
   "outputs": [],
   "source": [
    "# Enviar la solicitud GET con el JSON para traer catalogo de la tabla de Catálogo de Subtipos de Delitos\n",
    "response = requests.get(Url+'/subtipo_de_delito')\n",
    "\n",
    "# Imprimir la respuesta\n",
    "print(response.status_code)\n",
    "print(response.text)"
   ]
  },
  {
   "cell_type": "code",
   "execution_count": null,
   "metadata": {},
   "outputs": [],
   "source": [
    "# Enviar la solicitud POST con el JSON para traer un valor de id tipo de delito dentro del catálogo de Subtipos de Delitos\n",
    "\n",
    "\n",
    "data = {\n",
    "    \"id_tipo_de_delito\": [2]\n",
    "}\n",
    "\n",
    "response = requests.post(Url+'/subtipo_de_delito/id_tipo_de_delito', json=data)\n",
    "\n",
    "# Imprimir la respuesta\n",
    "print(response.status_code)\n",
    "print(response.text)"
   ]
  },
  {
   "cell_type": "markdown",
   "metadata": {},
   "source": [
    "### CATÁLOGO DE TIPO DE DELITOS"
   ]
  },
  {
   "cell_type": "code",
   "execution_count": null,
   "metadata": {},
   "outputs": [],
   "source": [
    "# Enviar la solicitud GET con el JSON para traer catalogo de la tabla de Catálogo de Subtipos de Delitos\n",
    "response = requests.get(Url+'/tipo_de_delito')\n",
    "\n",
    "# Imprimir la respuesta\n",
    "print(response.status_code)\n",
    "print(response.text)"
   ]
  },
  {
   "cell_type": "code",
   "execution_count": null,
   "metadata": {},
   "outputs": [],
   "source": [
    "# Enviar la solicitud POST con el JSON para traer un valor de id bien juridico dentro del catálogo de tipo de delito\n",
    "import json\n",
    "\n",
    "data = {\n",
    "    \"id_bien_juridico_afectado\": [0]\n",
    "}\n",
    "\n",
    "response = requests.post(Url+'/tipo_de_delito/id_bien_juridico_afectado', json=data)\n",
    "\n",
    "# Imprimir la respuesta\n",
    "print(response.status_code)\n",
    "\n",
    "# Imprimir en formato vertical\n",
    "data = response.json()\n",
    "print(json.dumps(data, ensure_ascii=False, indent=4))"
   ]
  },
  {
   "cell_type": "markdown",
   "metadata": {},
   "source": [
    "### CATÁLOGO DE MUNICIPIOS"
   ]
  },
  {
   "cell_type": "code",
   "execution_count": null,
   "metadata": {},
   "outputs": [],
   "source": [
    "# Enviar la solicitud GET con el JSON para traer catalogo de la tabla de Catálogo de Municipios\n",
    "response = requests.get(Url+'/municipios')\n",
    "\n",
    "# Imprimir la respuesta\n",
    "print(response.status_code)\n",
    "print(response.text)"
   ]
  },
  {
   "cell_type": "code",
   "execution_count": null,
   "metadata": {},
   "outputs": [],
   "source": [
    "# Enviar la solicitud POST con el JSON para traer un valor de id bien juridico dentro del catálogo de tipo de delito\n",
    "import json\n",
    "\n",
    "data = {\n",
    "    \"id_entidad\": [0]\n",
    "}\n",
    "\n",
    "response = requests.post(Url+'/municipios/id_entidad', json=data)\n",
    "\n",
    "# Imprimir la respuesta\n",
    "print(response.status_code)\n",
    "\n",
    "# Imprimir en formato vertical\n",
    "data = response.json()\n",
    "print(json.dumps(data, ensure_ascii=False, indent=4))"
   ]
  },
  {
   "cell_type": "code",
   "execution_count": null,
   "metadata": {},
   "outputs": [],
   "source": [
    "import os\n",
    "import sys\n",
    "\n",
    "# Obtener el directorio base\n",
    "BASE_PATH = os.getcwd()\n",
    "# print(os.path.dirname(BASE_PATH))\n",
    "\n",
    "# Agregar el directorio `app` al sys.path\n",
    "sys.path.append(os.path.join(os.path.dirname(BASE_PATH)))\n",
    "\n",
    "from app.controladores.fun_catalogo_municipios import Municipios_service\n",
    "\n",
    "resultado = Municipios_service().select_municipios_por_idEntidad([1])\n",
    "\n",
    "resultado"
   ]
  },
  {
   "cell_type": "markdown",
   "metadata": {},
   "source": [
    "### DATOS GEOGRÁFICOS DE LAS ENTIDADES"
   ]
  },
  {
   "cell_type": "code",
   "execution_count": null,
   "metadata": {},
   "outputs": [],
   "source": [
    "# Enviar la solicitud GET con el JSON para traer Datos Geográficos de las entidades\n",
    "response = requests.get(Url+'/entidad/datos-geograficos')\n",
    "\n",
    "# Imprimir la respuesta\n",
    "print(response.status_code)\n",
    "print(response.text)"
   ]
  },
  {
   "cell_type": "markdown",
   "metadata": {},
   "source": [
    "### DATOS GEOGRÁFICOS DE LOS MUNICIPIOS"
   ]
  },
  {
   "cell_type": "code",
   "execution_count": null,
   "metadata": {},
   "outputs": [],
   "source": [
    "# Enviar la solicitud GET con el JSON para traer Datos Geográficos de los municipios\n",
    "response = requests.get(Url+'/municipios/datos-geograficos')\n",
    "\n",
    "# Imprimir la respuesta\n",
    "print(response.status_code)\n",
    "print(response.text)"
   ]
  },
  {
   "cell_type": "markdown",
   "metadata": {},
   "source": [
    "### CATÁLOGO DE ENTIDAD"
   ]
  },
  {
   "cell_type": "code",
   "execution_count": null,
   "metadata": {},
   "outputs": [],
   "source": [
    "# Enviar la solicitud GET con el JSON para traer catálogo de la tabla de CAT_ENTIDAD\n",
    "response = requests.get(Url+'/entidad')\n",
    "\n",
    "# Imprimir la respuesta\n",
    "print(response.status_code)\n",
    "print(response.text)"
   ]
  },
  {
   "cell_type": "markdown",
   "metadata": {},
   "source": [
    "### CATÁLOGO DE MALLADO DE RIESGOS"
   ]
  },
  {
   "cell_type": "code",
   "execution_count": null,
   "metadata": {},
   "outputs": [],
   "source": [
    "# Enviar la solicitud GET con el JSON para traer catálogo de la tabla de CAT_ENTIDAD\n",
    "response = requests.get(Url+'/mallado/riesgos')\n",
    "\n",
    "# Imprimir la respuesta\n",
    "print(response.status_code)\n",
    "print(response.text)"
   ]
  },
  {
   "cell_type": "markdown",
   "metadata": {},
   "source": [
    "### JSON DE DELITOS (ARCHIVO)"
   ]
  },
  {
   "cell_type": "code",
   "execution_count": null,
   "metadata": {},
   "outputs": [],
   "source": [
    "# Enviar la solicitud GET para traer la información de delitos desde un archivo en formato JSON\n",
    "response = requests.get(Url+'/jsondelitos')\n",
    "\n",
    "# Imprimir la respuesta\n",
    "print(response.status_code)\n",
    "print(response.text)"
   ]
  },
  {
   "cell_type": "markdown",
   "metadata": {},
   "source": [
    "### CONTEO MUNICIPIOS DELITOS (SUM_DELITOS_MUNICIPIOS_MES)"
   ]
  },
  {
   "cell_type": "code",
   "execution_count": null,
   "metadata": {},
   "outputs": [],
   "source": [
    "import requests\n",
    "\n",
    "# Construimos la URL de la API\n",
    "Host = '127.0.0.1' #Para Local '127.0.0.1'   # Para AWS '18.233.132.113'\n",
    "Port = '8000' # Para Local '8000' # Para AWS '5000'\n",
    "Url = 'http://'+Host+':'+Port\n",
    "Url"
   ]
  },
  {
   "cell_type": "code",
   "execution_count": null,
   "metadata": {},
   "outputs": [],
   "source": [
    "# Enviar la solicitud POST con el JSON para traer un valor de id bien juridico dentro del catálogo de tipo de delito\n",
    "import json\n",
    "\n",
    "data = {\n",
    "    \"modalidades\": [9],\n",
    "    \"subtiposDelitos\": [25],\n",
    "    \"anios\": [0],\n",
    "    \"meses\": [0],\n",
    "    \"municipios\": [0]\n",
    "}\n",
    "\n",
    "response = requests.post(Url+'/municipios/delitos', json=data)\n",
    "\n",
    "# Imprimir la respuesta\n",
    "print(response.status_code)\n",
    "\n",
    "# Imprimir en formato vertical\n",
    "data = response.json()\n",
    "print(json.dumps(data, ensure_ascii=False, indent=4))"
   ]
  },
  {
   "cell_type": "code",
   "execution_count": null,
   "metadata": {},
   "outputs": [],
   "source": [
    "import os\n",
    "import sys\n",
    "\n",
    "# Obtener el directorio base\n",
    "BASE_PATH = os.getcwd()\n",
    "# print(os.path.dirname(BASE_PATH))\n",
    "\n",
    "# Agregar el directorio `app` al sys.path\n",
    "sys.path.append(os.path.join(os.path.dirname(BASE_PATH)))\n",
    "\n",
    "# from app.mapper.sum_delitos_municipios_mapper import Sum_delitos_municipio_mes_mapper\n",
    "from app.controladores.fun_sum_delitos_municipio_mes import Sum_delitos_municipio_mes_service\n",
    "\n",
    "# resultado = Sum_delitos_municipio_mes_mapper().select_vista([9],[25],[0],[1],[1001])\n",
    "resultado = Sum_delitos_municipio_mes_service().select_vista([9],[25],[0],[1],[1001])\n",
    "\n",
    "resultado"
   ]
  }
 ],
 "metadata": {
  "kernelspec": {
   "display_name": ".venv",
   "language": "python",
   "name": "python3"
  },
  "language_info": {
   "codemirror_mode": {
    "name": "ipython",
    "version": 3
   },
   "file_extension": ".py",
   "mimetype": "text/x-python",
   "name": "python",
   "nbconvert_exporter": "python",
   "pygments_lexer": "ipython3",
   "version": "3.12.7"
  }
 },
 "nbformat": 4,
 "nbformat_minor": 2
}
