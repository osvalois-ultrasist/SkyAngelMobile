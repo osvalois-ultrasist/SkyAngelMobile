{
 "cells": [
  {
   "cell_type": "code",
   "execution_count": 6,
   "id": "d62dc4ce",
   "metadata": {},
   "outputs": [
    {
     "data": {
      "text/plain": [
       "'http://127.0.0.1:5000'"
      ]
     },
     "execution_count": 6,
     "metadata": {},
     "output_type": "execute_result"
    }
   ],
   "source": [
    "import requests\n",
    "\n",
    "# Construimos la URL de la API\n",
    "Host = '127.0.0.1'\n",
    "Port = '5000'\n",
    "Url = 'http://'+Host+':'+Port\n",
    "Url"
   ]
  },
  {
   "cell_type": "markdown",
   "id": "0c94e2fc",
   "metadata": {},
   "source": [
    "Correo autorizado"
   ]
  },
  {
   "cell_type": "code",
   "execution_count": 7,
   "id": "424f3701",
   "metadata": {},
   "outputs": [
    {
     "name": "stdout",
     "output_type": "stream",
     "text": [
      "200\n",
      "{\n",
      "  \"auth\": 1,\n",
      "  \"mensaje\": \"Correo autorizado\"\n",
      "}\n",
      "\n"
     ]
    }
   ],
   "source": [
    "data = {\n",
    "    \"correo\": \"jespinosar@test.com\"\n",
    "}\n",
    "\n",
    "# Enviar la solicitud POST con el JSON\n",
    "response = requests.post(Url+'/validar_correo', json=data)\n",
    "\n",
    "# Imprimir la respuesta\n",
    "print(response.status_code)\n",
    "print(response.text)"
   ]
  },
  {
   "cell_type": "markdown",
   "id": "91c06d21",
   "metadata": {},
   "source": [
    "Correo no autorizado"
   ]
  },
  {
   "cell_type": "code",
   "execution_count": 8,
   "id": "bdca7f4c",
   "metadata": {},
   "outputs": [
    {
     "name": "stdout",
     "output_type": "stream",
     "text": [
      "401\n",
      "{\n",
      "  \"auth\": 0,\n",
      "  \"mensaje\": \"Correo no autorizado\"\n",
      "}\n",
      "\n"
     ]
    }
   ],
   "source": [
    "data = {\n",
    "    \"correo\": \"correonovalido@test.com\"\n",
    "}\n",
    "\n",
    "# Enviar la solicitud POST con el JSON\n",
    "response = requests.post(Url+'/validar_correo', json=data)\n",
    "\n",
    "# Imprimir la respuesta\n",
    "print(response.status_code)\n",
    "print(response.text)"
   ]
  }
 ],
 "metadata": {
  "kernelspec": {
   "display_name": "sky_env",
   "language": "python",
   "name": "python3"
  },
  "language_info": {
   "codemirror_mode": {
    "name": "ipython",
    "version": 3
   },
   "file_extension": ".py",
   "mimetype": "text/x-python",
   "name": "python",
   "nbconvert_exporter": "python",
   "pygments_lexer": "ipython3",
   "version": "3.13.1"
  }
 },
 "nbformat": 4,
 "nbformat_minor": 5
}
