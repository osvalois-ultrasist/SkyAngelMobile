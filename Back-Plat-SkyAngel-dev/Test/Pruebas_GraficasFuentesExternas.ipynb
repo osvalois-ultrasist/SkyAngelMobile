{
 "cells": [
  {
   "cell_type": "code",
   "execution_count": 23,
   "metadata": {},
   "outputs": [
    {
     "data": {
      "text/plain": [
       "'http://127.0.0.1:5000'"
      ]
     },
     "execution_count": 23,
     "metadata": {},
     "output_type": "execute_result"
    }
   ],
   "source": [
    "import requests\n",
    "import json\n",
    "from pprint import pprint\n",
    "# Construimos la URL de la API\n",
    "Host = '127.0.0.1'\n",
    "Port = '5000'\n",
    "Url = 'http://'+Host+':'+Port\n",
    "Url"
   ]
  },
  {
   "cell_type": "code",
   "execution_count": 17,
   "metadata": {},
   "outputs": [
    {
     "data": {
      "text/plain": [
       "'{\"anios\": [2019, 2023], \"meses\": [3, 4, 5, 6, 7, 8, 9], \"entidades\": [9, 11, 13, 14, 15, 16, 19, 21, 22, 24, 29, 30], \"municipios\": [1001, 21181, 21182, 21183, 21184]}'"
      ]
     },
     "execution_count": 17,
     "metadata": {},
     "output_type": "execute_result"
    }
   ],
   "source": [
    "# Datos de prueba\n",
    "anios = [2019,2023]\n",
    "meses = [3,4,5,6,7,8,9]\n",
    "entidades = [9,11,13,14,15,16,19,21,22,24,29,30]\n",
    "municipios = [1001,21181,21182,21183,21184]\n",
    "data=json.dumps({\"anios\":anios,\"meses\":meses,\"entidades\":entidades,\"municipios\":municipios})\n",
    "data"
   ]
  },
  {
   "cell_type": "code",
   "execution_count": 30,
   "metadata": {},
   "outputs": [
    {
     "name": "stdout",
     "output_type": "stream",
     "text": [
      "200\n",
      "('{\"title\": \"Delitos por entidad\", \"xAxisParam\": {\"scaleType\": \"band\", '\n",
      " '\"dataKey\": \"entidades\"}, \"yAxisParam\": {\"label\": \"Cantidad de delitos\"}, '\n",
      " '\"mesNombre\": {\"1\": \"Enero\", \"2\": \"Febrero\", \"3\": \"Marzo\", \"4\": \"Abril\", \"5\": '\n",
      " '\"Mayo\", \"6\": \"Junio\", \"7\": \"Julio\", \"8\": \"Agosto\", \"9\": \"Septiembre\", \"10\": '\n",
      " '\"Octubre\", \"11\": \"Noviembre\", \"12\": \"Diciembre\"}, \"data\": {\"data\": '\n",
      " '{\"Puebla\": 299, \"Hidalgo\": 96, \"Jalisco\": 278, \"Veracruz de Ignacio de la '\n",
      " 'Llave\": 61, \"México\": 536, \"Guanajuato\": 147, \"San Luis Potosí\": 68, '\n",
      " '\"Tlaxcala\": 43, \"Nuevo León\": 39, \"Michoacán de Ocampo\": 121, \"Ciudad de '\n",
      " 'México\": 58, \"Querétaro\": 72}}, \"width\": [1200], \"height\": [400], \"color\": '\n",
      " '[\"#00ffff\"], \"fontSize\": 20, \"fontFamily\": \"Verdana\"}')\n"
     ]
    }
   ],
   "source": [
    "response = requests.post(Url+'/graficas/fuentes-externas/delitos-por-entidad-barras',data=data)\n",
    "# Imprimir la respuesta\n",
    "print(response.status_code)\n",
    "pprint(response.text)"
   ]
  },
  {
   "cell_type": "code",
   "execution_count": 40,
   "metadata": {},
   "outputs": [
    {
     "name": "stdout",
     "output_type": "stream",
     "text": [
      "200\n",
      "('{\"title\": \"Delitos por municipio\", \"xAxisParam\": {\"scaleType\": \"band\", '\n",
      " '\"dataKey\": \"municipios\"}, \"yAxisParam\": {\"label\": \"Cantidad de delitos\"}, '\n",
      " '\"mesNombre\": {\"1\": \"Enero\", \"2\": \"Febrero\", \"3\": \"Marzo\", \"4\": \"Abril\", \"5\": '\n",
      " '\"Mayo\", \"6\": \"Junio\", \"7\": \"Julio\", \"8\": \"Agosto\", \"9\": \"Septiembre\", \"10\": '\n",
      " '\"Octubre\", \"11\": \"Noviembre\", \"12\": \"Diciembre\"}, \"data\": {\"data\": {}}, '\n",
      " '\"width\": [1200], \"height\": [400], \"color\": [\"#00ffff\"], \"fontSize\": 20, '\n",
      " '\"fontFamily\": \"Verdana\"}')\n"
     ]
    }
   ],
   "source": [
    "response = requests.post(Url+'/graficas/fuentes-externas/delitos-por-municipio-barras',data=data)\n",
    "# Imprimir la respuesta\n",
    "print(response.status_code)\n",
    "pprint(response.text)"
   ]
  },
  {
   "cell_type": "code",
   "execution_count": 39,
   "metadata": {},
   "outputs": [
    {
     "name": "stdout",
     "output_type": "stream",
     "text": [
      "200\n",
      "('{\"title\": \"Delitos en los 20 municipios más peligrosos\", \"xAxisParam\": '\n",
      " '{\"scaleType\": \"band\", \"dataKey\": \"municipios\"}, \"yAxisParam\": {\"label\": '\n",
      " '\"Cantidad de delitos\"}, \"mesNombre\": {\"1\": \"Enero\", \"2\": \"Febrero\", \"3\": '\n",
      " '\"Marzo\", \"4\": \"Abril\", \"5\": \"Mayo\", \"6\": \"Junio\", \"7\": \"Julio\", \"8\": '\n",
      " '\"Agosto\", \"9\": \"Septiembre\", \"10\": \"Octubre\", \"11\": \"Noviembre\", \"12\": '\n",
      " '\"Diciembre\"}, \"data\": {\"data\": {}}, \"width\": [1200], \"height\": [400], '\n",
      " '\"color\": [\"#00ffff\"], \"fontSize\": 20, \"fontFamily\": \"Verdana\"}')\n"
     ]
    }
   ],
   "source": [
    "response = requests.post(Url+'/graficas/fuentes-externas/delitos-por-municipio-top20-barras',data=data)\n",
    "# Imprimir la respuesta\n",
    "print(response.status_code)\n",
    "pprint(response.text)"
   ]
  }
 ],
 "metadata": {
  "kernelspec": {
   "display_name": ".venv",
   "language": "python",
   "name": "python3"
  },
  "language_info": {
   "codemirror_mode": {
    "name": "ipython",
    "version": 3
   },
   "file_extension": ".py",
   "mimetype": "text/x-python",
   "name": "python",
   "nbconvert_exporter": "python",
   "pygments_lexer": "ipython3",
   "version": "3.12.0"
  }
 },
 "nbformat": 4,
 "nbformat_minor": 2
}
