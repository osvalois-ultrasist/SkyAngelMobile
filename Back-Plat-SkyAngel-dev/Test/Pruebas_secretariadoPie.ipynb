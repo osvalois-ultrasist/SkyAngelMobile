{
 "cells": [
  {
   "cell_type": "code",
   "execution_count": 1,
   "metadata": {},
   "outputs": [
    {
     "data": {
      "text/plain": [
       "'http://127.0.0.1:5000'"
      ]
     },
     "execution_count": 1,
     "metadata": {},
     "output_type": "execute_result"
    }
   ],
   "source": [
    "import requests\n",
    "import json\n",
    "# Construimos la URL de la API\n",
    "Host = '127.0.0.1'\n",
    "Port = '5000'\n",
    "Url = 'http://'+Host+':'+Port\n",
    "Url"
   ]
  },
  {
   "cell_type": "code",
   "execution_count": 3,
   "metadata": {},
   "outputs": [
    {
     "name": "stdout",
     "output_type": "stream",
     "text": [
      "[{\"label\": \"2015\", \"value\": 652647}, {\"label\": \"2016\", \"value\": 690048}, {\"label\": \"2017\", \"value\": 801099}, {\"label\": \"2018\", \"value\": 810592}, {\"label\": \"2019\", \"value\": 766096}, {\"label\": \"2020\", \"value\": 604275}, {\"label\": \"2021\", \"value\": 609340}, {\"label\": \"2022\", \"value\": 609635}, {\"label\": \"2023\", \"value\": 581510}, {\"label\": \"2024\", \"value\": 138654}]\n",
      "Estatus del codigo: 200\n"
     ]
    }
   ],
   "source": [
    "# Datos de prueba\n",
    "años = [2015, 2016, 2017, 2018, 2019, 2020, 2021, 2022, 2023, 2024]\n",
    "tipoDeDelito = [33]\n",
    "data=json.dumps({\"años\":años,\"tipoDeDelito\":tipoDeDelito})\n",
    "\n",
    "response = requests.post(Url+'/secPieTipoDeDelito',data=data)\n",
    "\n",
    "# Imprimir la respuesta\n",
    "print(response.text)\n",
    "print(\"Estatus del codigo:\", response.status_code)"
   ]
  },
  {
   "cell_type": "code",
   "execution_count": 4,
   "metadata": {},
   "outputs": [
    {
     "name": "stdout",
     "output_type": "stream",
     "text": [
      "[{\"label\": \"2015\", \"value\": 7258}, {\"label\": \"2016\", \"value\": 8768}, {\"label\": \"2017\", \"value\": 12031}, {\"label\": \"2018\", \"value\": 13068}, {\"label\": \"2019\", \"value\": 11662}, {\"label\": \"2020\", \"value\": 9527}, {\"label\": \"2021\", \"value\": 8760}, {\"label\": \"2022\", \"value\": 8836}, {\"label\": \"2023\", \"value\": 9179}, {\"label\": \"2024\", \"value\": 2030}]\n",
      "Estatus del codigo: 200\n"
     ]
    }
   ],
   "source": [
    "# Datos de prueba\n",
    "años = [2015, 2016, 2017, 2018, 2019, 2020, 2021, 2022, 2023, 2024]\n",
    "subtipoDeDelito = [41]\n",
    "data=json.dumps({\"años\":años,\"subtipoDeDelito\":subtipoDeDelito})\n",
    "\n",
    "response = requests.post(Url+'/secPieSubtipoDeDelito',data=data)\n",
    "\n",
    "# Imprimir la respuesta\n",
    "print(response.text)\n",
    "print(\"Estatus del codigo:\", response.status_code)"
   ]
  },
  {
   "cell_type": "code",
   "execution_count": 6,
   "metadata": {},
   "outputs": [
    {
     "name": "stdout",
     "output_type": "stream",
     "text": [
      "{\"years\": [2015, 2016, 2017, 2018, 2019, 2020, 2021, 2022, 2023, 2024], \"series\": [{\"label\": \"Con violencia\", \"data\": [5639, 6520, 9369, 11069, 9929, 8142, 7420, 7646, 7858, 1699]}, {\"label\": \"Sin violencia\", \"data\": [1619, 2248, 2662, 1999, 1733, 1385, 1340, 1190, 1321, 331]}]}\n",
      "Estatus del codigo: 200\n"
     ]
    }
   ],
   "source": [
    "# Datos de prueba\n",
    "años = [2015, 2016, 2017, 2018, 2019, 2020, 2021, 2022, 2023, 2024]\n",
    "subtipoDeDelito = [41]\n",
    "modalidad = [10,53]\n",
    "data=json.dumps({\"años\":años,\"subtipoDeDelito\":subtipoDeDelito,\"modalidad\":modalidad})\n",
    "\n",
    "response = requests.post(Url+'/secPieModalidad',data=data)\n",
    "\n",
    "# Imprimir la respuesta\n",
    "print(response.text)\n",
    "print(\"Estatus del codigo:\", response.status_code)"
   ]
  }
 ],
 "metadata": {
  "kernelspec": {
   "display_name": "skyvirtualenv",
   "language": "python",
   "name": "python3"
  },
  "language_info": {
   "codemirror_mode": {
    "name": "ipython",
    "version": 3
   },
   "file_extension": ".py",
   "mimetype": "text/x-python",
   "name": "python",
   "nbconvert_exporter": "python",
   "pygments_lexer": "ipython3",
   "version": "3.11.9"
  }
 },
 "nbformat": 4,
 "nbformat_minor": 2
}
