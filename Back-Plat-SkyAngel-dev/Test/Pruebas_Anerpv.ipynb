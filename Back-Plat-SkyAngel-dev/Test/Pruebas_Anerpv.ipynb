{
 "cells": [
  {
   "cell_type": "markdown",
   "metadata": {},
   "source": [
    "### PRUEBAS ANERPV\n"
   ]
  },
  {
   "cell_type": "markdown",
   "metadata": {},
   "source": [
    "#### Armado URL"
   ]
  },
  {
   "cell_type": "code",
   "execution_count": null,
   "metadata": {},
   "outputs": [],
   "source": [
    "import requests\n",
    "\n",
    "# Construimos la URL de la API\n",
    "Host = '127.0.0.1'\n",
    "Port = '8000'\n",
    "Url = 'http://'+Host+':'+Port\n",
    "Url"
   ]
  },
  {
   "cell_type": "markdown",
   "metadata": {},
   "source": [
    "#### CATALOGO MODALIDADES"
   ]
  },
  {
   "cell_type": "code",
   "execution_count": null,
   "metadata": {},
   "outputs": [],
   "source": [
    "# Ejemplo de peticion CORRECTA\n",
    "\n",
    "# Enviar la solicitud GET con el JSON\n",
    "response = requests.get(Url+'/anerpv/modalidades')\n",
    "\n",
    "# Imprimir la respuesta\n",
    "print(response.text)\n",
    "print(response.status_code)\n",
    "#print(response.json())"
   ]
  },
  {
   "cell_type": "markdown",
   "metadata": {},
   "source": [
    "#### SUM DELITOS ENTIDAD MES ANERPV"
   ]
  },
  {
   "cell_type": "markdown",
   "metadata": {},
   "source": [
    "##### SELECT ALL"
   ]
  },
  {
   "cell_type": "code",
   "execution_count": null,
   "metadata": {},
   "outputs": [],
   "source": [
    "# Para mostrar todos los datos de delitos entidades\n",
    "\n",
    "# Enviar la solicitud GET con el JSON\n",
    "response = requests.get(Url+'/anerpv/delitos/entidades')\n",
    "\n",
    "# Imprimir la respuesta\n",
    "print(response.text)\n",
    "print(response.status_code)\n",
    "#print(response.json())"
   ]
  },
  {
   "cell_type": "markdown",
   "metadata": {},
   "source": [
    "##### SELECT DISTINCT ENTIDADES"
   ]
  },
  {
   "cell_type": "code",
   "execution_count": null,
   "metadata": {},
   "outputs": [],
   "source": [
    "# Para mostrar los datos distintos de entidades\n",
    "import requests\n",
    "import json\n",
    "\n",
    "# Enviar la solicitud GET con el JSON\n",
    "response = requests.get(Url+'/anerpv/delitos/entidades/catalogo')\n",
    "\n",
    "# Establecer el encoding a 'utf-8' explícitamente si es necesario\n",
    "response.encoding = 'utf-8'\n",
    "\n",
    "# Imprimir la respuesta\n",
    "print(response.status_code)\n",
    "\n",
    "# Imprimir en formato vertical\n",
    "data = response.json()\n",
    "print(json.dumps(data, ensure_ascii=False, indent=4))"
   ]
  },
  {
   "cell_type": "markdown",
   "metadata": {},
   "source": [
    "##### FILTROS"
   ]
  },
  {
   "cell_type": "code",
   "execution_count": null,
   "metadata": {},
   "outputs": [],
   "source": [
    "# Para mostrar los datos con filtros para delitos entidades\n",
    "import requests\n",
    "import json\n",
    "\n",
    "#Definimos los filtros\n",
    "#Si defines el valor \"0\", eso quiere decir TODOS\n",
    "data ={\n",
    "    \n",
    "    \"anios\": [0],       ## Datos disponibles: 2023 y 2024\n",
    "    \"meses\": [0],       ## Datos disponibles: del 1 al 12\n",
    "    \"entidades\": [0]    \n",
    "}\n",
    "\n",
    "# Enviar la solicitud POST con el JSON\n",
    "response = requests.post(Url+'/anerpv/delitos/entidades/filtros', json = data)\n",
    "\n",
    "# Establecer el encoding a 'utf-8' explícitamente si es necesario\n",
    "response.encoding = 'utf-8'\n",
    "\n",
    "# Imprimir la respuesta\n",
    "print(response.status_code)\n",
    "\n",
    "# Imprimir en formato vertical\n",
    "data = response.json()\n",
    "print(json.dumps(data, ensure_ascii=False, indent=4))"
   ]
  },
  {
   "cell_type": "markdown",
   "metadata": {},
   "source": [
    "#### SUM DELITOS ENTIDAD MES MODALIDAD"
   ]
  },
  {
   "cell_type": "markdown",
   "metadata": {},
   "source": [
    "##### SELECT ALL"
   ]
  },
  {
   "cell_type": "code",
   "execution_count": null,
   "metadata": {},
   "outputs": [],
   "source": [
    "# Para mostrar todos los datos de entidades con modalidades\n",
    "import requests\n",
    "import json\n",
    "\n",
    "# Enviar la solicitud POST con el JSON\n",
    "response = requests.get(Url+'/anerpv/delitos/entidades/modalidades')\n",
    "\n",
    "# Establecer el encoding a 'utf-8' explícitamente si es necesario\n",
    "response.encoding = 'utf-8'\n",
    "\n",
    "# Imprimir la respuesta\n",
    "print(response.status_code)\n",
    "\n",
    "# Imprimir en formato vertical\n",
    "data = response.json()\n",
    "print(json.dumps(data, ensure_ascii=False, indent=4))"
   ]
  },
  {
   "cell_type": "markdown",
   "metadata": {},
   "source": [
    "#### SUM DELITOS MUNICIPIO MES"
   ]
  },
  {
   "cell_type": "markdown",
   "metadata": {},
   "source": [
    "##### SELECT ALL"
   ]
  },
  {
   "cell_type": "code",
   "execution_count": null,
   "metadata": {},
   "outputs": [],
   "source": [
    "# Para mostrar todos los datos para delitos municipios\n",
    "import requests\n",
    "import json\n",
    "\n",
    "# Enviar la solicitud GET con el JSON\n",
    "response = requests.get(Url+'/anerpv/delitos/municipios')\n",
    "\n",
    "# Establecer el encoding a 'utf-8' explícitamente si es necesario\n",
    "response.encoding = 'utf-8'\n",
    "\n",
    "# Imprimir la respuesta\n",
    "print(response.status_code)\n",
    "\n",
    "# Imprimir en formato vertical\n",
    "data = response.json()\n",
    "print(json.dumps(data, ensure_ascii=False, indent=4))"
   ]
  },
  {
   "cell_type": "markdown",
   "metadata": {},
   "source": [
    "##### SELECT MUNICIPIOS POR ID ENTIDAD"
   ]
  },
  {
   "cell_type": "code",
   "execution_count": null,
   "metadata": {},
   "outputs": [],
   "source": [
    "import requests\n",
    "\n",
    "# Construimos la URL de la API\n",
    "Host = '127.0.0.1'\n",
    "Port = '8000'\n",
    "Url = 'http://'+Host+':'+Port\n",
    "Url"
   ]
  },
  {
   "cell_type": "code",
   "execution_count": null,
   "metadata": {},
   "outputs": [],
   "source": [
    "# Para mostrar los datos con filtros para delitos entidades a partir del id_entidad\n",
    "import requests\n",
    "import json\n",
    "\n",
    "#Definimos los filtros\n",
    "#Se mostrará los municipios a partir del id_entidad\n",
    "data ={\n",
    "    \n",
    "    \"idEntidad\": [15]\n",
    "}\n",
    "\n",
    "# Enviar la solicitud POST con el JSON\n",
    "response = requests.post(Url+'/anerpv/delitos/municipios/entidad', json = data)\n",
    "\n",
    "# Establecer el encoding a 'utf-8' explícitamente si es necesario\n",
    "response.encoding = 'utf-8'\n",
    "\n",
    "# Imprimir la respuesta\n",
    "print(response.status_code)\n",
    "\n",
    "# Imprimir en formato vertical\n",
    "data = response.json()\n",
    "print(json.dumps(data, ensure_ascii=False, indent=4))"
   ]
  },
  {
   "cell_type": "code",
   "execution_count": null,
   "metadata": {},
   "outputs": [],
   "source": []
  },
  {
   "cell_type": "markdown",
   "metadata": {},
   "source": [
    "##### CAT_ANIOS"
   ]
  },
  {
   "cell_type": "code",
   "execution_count": null,
   "metadata": {},
   "outputs": [],
   "source": [
    "# Para mostrar todos los datos de entidades con modalidades\n",
    "import requests\n",
    "\n",
    "# Enviar la solicitud POST con el JSON\n",
    "response = requests.get(Url+'/fuentes-externas/anios')\n",
    "\n",
    "# Imprimir la respuesta\n",
    "print(response.text)\n",
    "print(response.status_code)"
   ]
  },
  {
   "cell_type": "code",
   "execution_count": null,
   "metadata": {},
   "outputs": [],
   "source": [
    "import os\n",
    "import sys\n",
    "\n",
    "# Obtener el directorio base\n",
    "BASE_PATH = os.getcwd()\n",
    "# print(os.path.dirname(BASE_PATH))\n",
    "\n",
    "# Agregar el directorio `app` al sys.path\n",
    "sys.path.append(os.path.join(os.path.dirname(BASE_PATH)))\n",
    "\n",
    "# from app.mapper.cat_meses_mapper import Meses_mapper\n",
    "from app.controladores.fun_cat_meses import Cat_meses_service\n",
    "\n",
    "# resultado = Meses_mapper().select_meses_fe([2024])\n",
    "resultado = Cat_meses_service().select_meses_fe([0])\n",
    "\n",
    "resultado"
   ]
  },
  {
   "cell_type": "code",
   "execution_count": null,
   "metadata": {},
   "outputs": [],
   "source": [
    "# Para mostrar todos los datos de meses de acuerdo al año\n",
    "import requests\n",
    "\n",
    "data = {\n",
    "    'anios': [2024]\n",
    "}\n",
    "\n",
    "# Enviar la solicitud POST con el JSON\n",
    "response = requests.post(Url+'/fuentes-externas/meses', json=data)\n",
    "\n",
    "# Imprimir la respuesta\n",
    "print(response.text)\n",
    "print(response.status_code)"
   ]
  },
  {
   "cell_type": "markdown",
   "metadata": {},
   "source": [
    "##### FILTROS"
   ]
  },
  {
   "cell_type": "code",
   "execution_count": null,
   "metadata": {},
   "outputs": [],
   "source": [
    "# Para mostrar los datos con filtros para delitos entidades\n",
    "import requests\n",
    "import json\n",
    "\n",
    "#Definimos los filtros\n",
    "#Si defines el valor \"0\", eso quiere decir TODOS\n",
    "data ={\n",
    "    \n",
    "    \"anios\": [2023,2024],       ## Datos disponibles: 2023 y 2024\n",
    "    \"meses\": [1],       ## Datos disponibles: del 1 al 12\n",
    "    \"municipios\": [9017],\n",
    "    \"entidades\": [9]\n",
    "\n",
    "}\n",
    "\n",
    "# Enviar la solicitud POST con el JSON\n",
    "response = requests.post(Url+'/anerpv/delitos/municipios/filtros', json = data)\n",
    "\n",
    "# Establecer el encoding a 'utf-8' explícitamente si es necesario\n",
    "response.encoding = 'utf-8'\n",
    "\n",
    "# Imprimir la respuesta\n",
    "print(response.status_code)\n",
    "\n",
    "# Imprimir en formato vertical\n",
    "data = response.json()\n",
    "print(json.dumps(data, ensure_ascii=False, indent=4))"
   ]
  },
  {
   "cell_type": "markdown",
   "metadata": {},
   "source": [
    "##### SELECT DISTINCT MUNICIPIOS"
   ]
  },
  {
   "cell_type": "code",
   "execution_count": null,
   "metadata": {},
   "outputs": [],
   "source": [
    "# Para mostrar los datos con filtros para delitos entidades\n",
    "import requests\n",
    "import json\n",
    "\n",
    "# Enviar la solicitud GET con el JSON\n",
    "response = requests.get(Url+'/anerpv/delitos/municipios/catalogo')\n",
    "\n",
    "# Establecer el encoding a 'utf-8' explícitamente si es necesario\n",
    "response.encoding = 'utf-8'\n",
    "\n",
    "# Imprimir la respuesta\n",
    "print(response.status_code)\n",
    "\n",
    "# Imprimir en formato vertical\n",
    "data = response.json()\n",
    "print(json.dumps(data, ensure_ascii=False, indent=4))"
   ]
  },
  {
   "cell_type": "markdown",
   "metadata": {},
   "source": [
    "#### SUM DELITOS NACIONAL MES"
   ]
  },
  {
   "cell_type": "markdown",
   "metadata": {},
   "source": [
    "##### SELECT ALL"
   ]
  },
  {
   "cell_type": "code",
   "execution_count": null,
   "metadata": {},
   "outputs": [],
   "source": [
    "# Para mostrar los datos con filtros para delitos entidades\n",
    "import requests\n",
    "import json\n",
    "\n",
    "# Enviar la solicitud GET con el JSON\n",
    "response = requests.get(Url+'/anerpv/delitos/nacional')\n",
    "\n",
    "# Establecer el encoding a 'utf-8' explícitamente si es necesario\n",
    "response.encoding = 'utf-8'\n",
    "\n",
    "# Imprimir la respuesta\n",
    "print(response.status_code)\n",
    "\n",
    "# Imprimir en formato vertical\n",
    "data = response.json()\n",
    "print(json.dumps(data, ensure_ascii=False, indent=4))"
   ]
  },
  {
   "cell_type": "markdown",
   "metadata": {},
   "source": [
    "##### FILTROS"
   ]
  },
  {
   "cell_type": "code",
   "execution_count": null,
   "metadata": {},
   "outputs": [],
   "source": [
    "# Para mostrar los datos con filtros para delitos entidades\n",
    "import requests\n",
    "import json\n",
    "\n",
    "#Definimos los filtros\n",
    "#Si defines el valor \"0\", eso quiere decir TODOS\n",
    "data ={\n",
    "    \n",
    "    \"anios\": [0],       ## Datos disponibles: 2023 y 2024\n",
    "    \"meses\": [0],       ## Datos disponibles: del 1 al 12 \n",
    "}\n",
    "\n",
    "# Enviar la solicitud POST con el JSON\n",
    "response = requests.post(Url+'/anerpv/delitos/nacional/filtros', json = data)\n",
    "\n",
    "# Establecer el encoding a 'utf-8' explícitamente si es necesario\n",
    "response.encoding = 'utf-8'\n",
    "\n",
    "# Imprimir la respuesta\n",
    "print(response.status_code)\n",
    "\n",
    "# Imprimir en formato vertical\n",
    "data = response.json()\n",
    "print(json.dumps(data, ensure_ascii=False, indent=4))"
   ]
  }
 ],
 "metadata": {
  "kernelspec": {
   "display_name": ".venv",
   "language": "python",
   "name": "python3"
  },
  "language_info": {
   "codemirror_mode": {
    "name": "ipython",
    "version": 3
   },
   "file_extension": ".py",
   "mimetype": "text/x-python",
   "name": "python",
   "nbconvert_exporter": "python",
   "pygments_lexer": "ipython3",
   "version": "3.12.7"
  }
 },
 "nbformat": 4,
 "nbformat_minor": 2
}
